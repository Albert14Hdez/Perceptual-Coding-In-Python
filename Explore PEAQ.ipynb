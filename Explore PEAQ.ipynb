{
 "metadata": {
  "name": "",
  "signature": "sha256:371c02472191488fcfd35c342e1cc68839d1fbd233ac7e2470dd4e18bb174734"
 },
 "nbformat": 3,
 "nbformat_minor": 0,
 "worksheets": [
  {
   "cells": [
    {
     "cell_type": "markdown",
     "metadata": {},
     "source": [
      "#Explore PEAQ\n",
      "\n",
      "Stephen Welch and Matthew Cohen\n",
      "\n",
      "Begin Exploring the inner workings of the PEAQ algorithm. Based largely on: \n",
      "\n",
      "http://www-mmsp.ece.mcgill.ca/documents/Reports/2002/KabalR2002v2.pdf\n",
      "\n",
      "And supporting MATLAB code. "
     ]
    },
    {
     "cell_type": "markdown",
     "metadata": {},
     "source": [
      "##2.2 Windowing"
     ]
    },
    {
     "cell_type": "code",
     "collapsed": false,
     "input": [
      "#Method to make hanning window, given lenth of window:\n",
      "def PQHannWin(NF):\n",
      "    n = np.arange(0, NF)\n",
      "    hw = 0.5*(1-np.cos(2*np.pi*n/(NF-1)))\n",
      "    return hw"
     ],
     "language": "python",
     "metadata": {},
     "outputs": [],
     "prompt_number": 16
    },
    {
     "cell_type": "code",
     "collapsed": false,
     "input": [
      "plot(PQHannWin(2048))\n",
      "grid(1)"
     ],
     "language": "python",
     "metadata": {},
     "outputs": [
      {
       "metadata": {},
       "output_type": "display_data",
       "png": "[encoded data removed]",
       "text": [
        "<matplotlib.figure.Figure at 0x106472610>"
       ]
      }
     ],
     "prompt_number": 17
    },
    {
     "cell_type": "code",
     "collapsed": false,
     "input": [],
     "language": "python",
     "metadata": {},
     "outputs": []
    }
   ],
   "metadata": {}
  }
 ]
}