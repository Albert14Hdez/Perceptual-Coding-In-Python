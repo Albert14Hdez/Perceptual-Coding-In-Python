{
 "metadata": {
  "name": "",
  "signature": "sha256:ed100a61a322f35dce92122b435ed3e0de5c59d1c3177652efe9e77e2436150d"
 },
 "nbformat": 3,
 "nbformat_minor": 0,
 "worksheets": [
  {
   "cells": [
    {
     "cell_type": "markdown",
     "metadata": {},
     "source": [
      "#Explore PEAQ\n",
      "\n",
      "Stephen Welch and Matthew Cohen\n",
      "\n",
      "Begin Exploring the inner workings of the PEAQ algorithm. Based largely on: \n",
      "\n",
      "http://www-mmsp.ece.mcgill.ca/documents/Reports/2002/KabalR2002v2.pdf\n",
      "\n",
      "And supporting MATLAB code. "
     ]
    },
    {
     "cell_type": "markdown",
     "metadata": {},
     "source": [
      "##Testing Signals\n",
      "\n",
      "Use these simple singals to compare to octave implementation. PEAQ works by establishing a test and reference signal."
     ]
    },
    {
     "cell_type": "code",
     "collapsed": false,
     "input": [
      "#Test Signal\n",
      "xT = np.arange(0,8)\n",
      "\n",
      "#Reference Signal\n",
      "xR = np.arange(8,16)"
     ],
     "language": "python",
     "metadata": {},
     "outputs": [],
     "prompt_number": 161
    },
    {
     "cell_type": "code",
     "collapsed": false,
     "input": [
      "xT, xR"
     ],
     "language": "python",
     "metadata": {},
     "outputs": [
      {
       "metadata": {},
       "output_type": "pyout",
       "prompt_number": 163,
       "text": [
        "(array([0, 1, 2, 3, 4, 5, 6, 7]), array([ 8,  9, 10, 11, 12, 13, 14, 15]))"
       ]
      }
     ],
     "prompt_number": 163
    },
    {
     "cell_type": "markdown",
     "metadata": {},
     "source": [
      "##2.2 Windowing"
     ]
    },
    {
     "cell_type": "code",
     "collapsed": false,
     "input": [
      "#Method to make hanning window, given lenth of window:\n",
      "def PQHannWin(NF):\n",
      "    n = np.arange(0, NF)\n",
      "    hw = 0.5*(1-np.cos(2*np.pi*n/(NF-1)))\n",
      "    return hw"
     ],
     "language": "python",
     "metadata": {},
     "outputs": [],
     "prompt_number": 2
    },
    {
     "cell_type": "code",
     "collapsed": false,
     "input": [
      "hw = PQHannWin(2048)\n",
      "plot(hw)\n",
      "grid(1)"
     ],
     "language": "python",
     "metadata": {},
     "outputs": [
      {
       "metadata": {},
       "output_type": "display_data",
       "png": "[encoded data removed]",
       "text": [
        "<matplotlib.figure.Figure at 0x106469990>"
       ]
      }
     ],
     "prompt_number": 3
    },
    {
     "cell_type": "markdown",
     "metadata": {},
     "source": [
      "##2.4 Calibration of Loudness Scaling Factor\n",
      "This part honestly confuses the heck out of me right now, I have no idea why it needs to be so complex."
     ]
    },
    {
     "cell_type": "code",
     "collapsed": false,
     "input": [
      "def PQ_GL(NF, Amax, fcN, Lp):\n",
      "    #Scaled Hann window, including loudness scaling\n",
      "    # Calculate the gain for the Hann Window\n",
      "    #  - level Lp (SPL) corresponds to a sine with normalized frequency\n",
      "    #    fcN and a peak value of Amax\n",
      "    \n",
      "    W = NF-1\n",
      "    gp = PQ_gp(fcN, NF, W)\n",
      "    GL = 10**(Lp/20.) / (gp *Amax/4 *W)\n",
      "    return GL\n",
      "    \n",
      "def PQ_gp(fcN, NF, W):\n",
      "    # Calculate the peak factor. The signal is a sinusoid windowed with\n",
      "    # a Hann window. The sinusoid frequency falls between DFT bins. The\n",
      "    # peak of the frequency response (on a continuous frequency scale) falls\n",
      "    # between DFT bins. The largest DFT bin value is the peak factor times\n",
      "    # the peak of the continuous response.\n",
      "    # fcN - Normalized sinusoid frequency (0-1)\n",
      "    # NF  - Frame (DFT) length samples\n",
      "    # NW  - Window length samples\n",
      "\n",
      "    #Distance to the nearest DFT bin\n",
      "    df = 1./NF\n",
      "    k = floor(fcN/df)\n",
      "    dfN = amin([(k+1)*df - fcN, fcN -k*df])\n",
      "    \n",
      "    dfW = dfN*W\n",
      "    gp = np.sin(np.pi*dfW) / (np.pi*dfW*(1-dfW**2))\n",
      "    return gp"
     ],
     "language": "python",
     "metadata": {},
     "outputs": [],
     "prompt_number": 165
    },
    {
     "cell_type": "code",
     "collapsed": false,
     "input": [
      "NF = len(xR)"
     ],
     "language": "python",
     "metadata": {},
     "outputs": [],
     "prompt_number": 166
    },
    {
     "cell_type": "code",
     "collapsed": false,
     "input": [
      "#Create new, scaled hamming window. \n",
      "\n",
      "Amax = 32768\n",
      "fc = 1019.5\n",
      "Fs = 48000\n",
      "Lp = 92.\n",
      "\n",
      "GL = PQ_GL(NF, Amax, fc/Fs, Lp)\n"
     ],
     "language": "python",
     "metadata": {},
     "outputs": [],
     "prompt_number": 167
    },
    {
     "cell_type": "code",
     "collapsed": false,
     "input": [
      "GL"
     ],
     "language": "python",
     "metadata": {},
     "outputs": [
      {
       "metadata": {},
       "output_type": "pyout",
       "prompt_number": 168,
       "text": [
        "0.70422617278435529"
       ]
      }
     ],
     "prompt_number": 168
    },
    {
     "cell_type": "markdown",
     "metadata": {},
     "source": [
      "Ok, so in Kabal 2002, he says that GL should be 3.504 for these values, but we get .00279. However, when I run Kabal's code, I also get 0.00279, so we'll go with it for now. "
     ]
    },
    {
     "cell_type": "code",
     "collapsed": false,
     "input": [
      "hw = GL * PQHannWin (NF);"
     ],
     "language": "python",
     "metadata": {},
     "outputs": [],
     "prompt_number": 169
    },
    {
     "cell_type": "code",
     "collapsed": false,
     "input": [
      "hw"
     ],
     "language": "python",
     "metadata": {},
     "outputs": [
      {
       "metadata": {},
       "output_type": "pyout",
       "prompt_number": 170,
       "text": [
        "array([ 0.        ,  0.13257417,  0.43046562,  0.66935602,  0.66935602,\n",
        "        0.43046562,  0.13257417,  0.        ])"
       ]
      }
     ],
     "prompt_number": 170
    },
    {
     "cell_type": "code",
     "collapsed": false,
     "input": [
      "plot(hw)\n",
      "grid(1)"
     ],
     "language": "python",
     "metadata": {},
     "outputs": [
      {
       "metadata": {},
       "output_type": "display_data",
       "png": "[encoded data removed]",
       "text": [
        "<matplotlib.figure.Figure at 0x1067c8110>"
       ]
      }
     ],
     "prompt_number": 171
    },
    {
     "cell_type": "code",
     "collapsed": false,
     "input": [
      "sum(hw)"
     ],
     "language": "python",
     "metadata": {},
     "outputs": [
      {
       "metadata": {},
       "output_type": "pyout",
       "prompt_number": 172,
       "text": [
        "2.4647916047452432"
       ]
      }
     ],
     "prompt_number": 172
    },
    {
     "cell_type": "code",
     "collapsed": false,
     "input": [
      "#Perform windowing:\n",
      "xwT = hw*xT\n",
      "xwR = hw*xR"
     ],
     "language": "python",
     "metadata": {},
     "outputs": [],
     "prompt_number": 187
    },
    {
     "cell_type": "code",
     "collapsed": false,
     "input": [
      "xw"
     ],
     "language": "python",
     "metadata": {},
     "outputs": [
      {
       "metadata": {},
       "output_type": "pyout",
       "prompt_number": 185,
       "text": [
        "array([ 0.        ,  0.13257417,  0.86093124,  2.00806805,  2.67742406,\n",
        "        2.1523281 ,  0.79544501,  0.        ])"
       ]
      }
     ],
     "prompt_number": 185
    },
    {
     "cell_type": "markdown",
     "metadata": {},
     "source": [
      "###FFT Time!"
     ]
    },
    {
     "cell_type": "code",
     "collapsed": false,
     "input": [
      "def PQRFFT (x, N, ifn):\n",
      "    # Calculate the DFT of a real N-point sequence or the inverse\n",
      "    # DFT corresponding to a real N-point sequence.\n",
      "    # ifn > 0, forward transform\n",
      "    #          input x(n)  - N real values\n",
      "    #          output X(k) - The first N/2+1 points are the real\n",
      "    #            parts of the transform, the next N/2-1 points\n",
      "    #            are the imaginary parts of the transform. However\n",
      "    #            the imaginary part for the first point and the\n",
      "    #            middle point which are known to be zero are not\n",
      "    #            stored.\n",
      "    # ifn < 0, inverse transform\n",
      "    #          input X(k) - The first N/2+1 points are the real\n",
      "    #            parts of the transform, the next N/2-1 points\n",
      "    #            are the imaginary parts of the transform. However\n",
      "    #            the imaginary part for the first point and the\n",
      "    #            middle point which are known to be zero are not\n",
      "    #            stored. \n",
      "    #          output x(n) - N real values\n",
      "\n",
      "\n",
      "    if (ifn > 0):\n",
      "        X = fft.fft (x, N)\n",
      "        XR = real(X[0:N/2+1])\n",
      "        XI = imag(X[1:N/2-1+1])\n",
      "        X = np.concatenate([XR, XI])\n",
      "        return X\n",
      "    else:\n",
      "        raise Exception('ifft Not Implemented Yet -SW')"
     ],
     "language": "python",
     "metadata": {},
     "outputs": [],
     "prompt_number": 175
    },
    {
     "cell_type": "code",
     "collapsed": false,
     "input": [
      "XT = PQRFFT(xwT, NF, 1)\n",
      "XR = PQRFFT(xwR, NF, 1)"
     ],
     "language": "python",
     "metadata": {},
     "outputs": [],
     "prompt_number": 188
    },
    {
     "cell_type": "markdown",
     "metadata": {},
     "source": [
      "##Squared Magnitude:"
     ]
    },
    {
     "cell_type": "code",
     "collapsed": false,
     "input": [
      "def PQRFFTMSq(X, N):\n",
      "# Calculate the magnitude squared frequency response from the\n",
      "# DFT values corresponding to a real signal (assumes N is even)\n",
      "\n",
      "    X2 = np.zeros(N/2+1)\n",
      "\n",
      "    X2[0] = X[0]**2\n",
      "    for k in range(N/2-1):\n",
      "        X2[k+1] = X[k+1]**2 + X[N/2+k+1]**2\n",
      "\n",
      "    X2[N/2] = X[N/2]**2\n",
      "    return X2"
     ],
     "language": "python",
     "metadata": {},
     "outputs": [],
     "prompt_number": 177
    },
    {
     "cell_type": "code",
     "collapsed": false,
     "input": [
      "X2T = PQRFFTMSq(XT, NF)\n",
      "X2R = PQRFFTMSq(XR, NF)"
     ],
     "language": "python",
     "metadata": {},
     "outputs": [],
     "prompt_number": 189
    },
    {
     "cell_type": "code",
     "collapsed": false,
     "input": [
      "X2T"
     ],
     "language": "python",
     "metadata": {},
     "outputs": [
      {
       "metadata": {},
       "output_type": "pyout",
       "prompt_number": 192,
       "text": [
        "array([  7.44211713e+01,   3.05346932e+01,   1.11917582e+00,\n",
        "         3.45693288e-02,   1.66708867e-03])"
       ]
      }
     ],
     "prompt_number": 192
    },
    {
     "cell_type": "markdown",
     "metadata": {},
     "source": [
      "Great, agrees with octave code for simple test input!"
     ]
    },
    {
     "cell_type": "markdown",
     "metadata": {},
     "source": [
      "##Outer and middle Ear Filtering"
     ]
    },
    {
     "cell_type": "code",
     "collapsed": false,
     "input": [
      "def PQWOME(f):\n",
      "    # Generate the weighting for the outer & middle ear filtering\n",
      "    # Note: The output is a magnitude-squared vector\n",
      "    \n",
      "    N = len(f)\n",
      "    W2 = np.zeros(N)\n",
      "    \n",
      "    for k in range(N-1):\n",
      "        fkHz = float(f[k+1])/1000\n",
      "        AdB = -2.184 * fkHz**(-0.8) + 6.5 * np.exp(-0.6 * (fkHz - 3.3)**2) - 0.001 * fkHz**(3.6)\n",
      "        W2[k+1] = 10**(AdB / 10);\n",
      "    \n",
      "    return W2\n"
     ],
     "language": "python",
     "metadata": {},
     "outputs": [],
     "prompt_number": 193
    },
    {
     "cell_type": "code",
     "collapsed": false,
     "input": [
      "f = linspace(0, Fs/2, 1000)\n",
      "plot(f, PQWOME(f))\n",
      "grid(1)\n",
      "xlim([0, 12000])"
     ],
     "language": "python",
     "metadata": {},
     "outputs": [
      {
       "metadata": {},
       "output_type": "pyout",
       "prompt_number": 194,
       "text": [
        "(0, 12000)"
       ]
      },
      {
       "metadata": {},
       "output_type": "display_data",
       "png": "[encoded data removed]",
       "text": [
        "<matplotlib.figure.Figure at 0x106a68450>"
       ]
      }
     ],
     "prompt_number": 194
    },
    {
     "cell_type": "code",
     "collapsed": false,
     "input": [
      "f.shape"
     ],
     "language": "python",
     "metadata": {},
     "outputs": [
      {
       "metadata": {},
       "output_type": "pyout",
       "prompt_number": 182,
       "text": [
        "(1000,)"
       ]
      }
     ],
     "prompt_number": 182
    },
    {
     "cell_type": "code",
     "collapsed": false,
     "input": [
      "PQWOME(arange(1,9))"
     ],
     "language": "python",
     "metadata": {},
     "outputs": [
      {
       "metadata": {},
       "output_type": "pyout",
       "prompt_number": 183,
       "text": [
        "array([  0.00000000e+00,   3.10732108e-32,   1.66285982e-23,\n",
        "         8.01753206e-19,   7.28920338e-16,   8.26485880e-14,\n",
        "         2.72402066e-12,   4.04598649e-11])"
       ]
      }
     ],
     "prompt_number": 183
    },
    {
     "cell_type": "markdown",
     "metadata": {},
     "source": [
      "PQWOME has been tested and matches Octave Output"
     ]
    },
    {
     "cell_type": "code",
     "collapsed": false,
     "input": [
      "f = np.linspace(0, Fs/2, NF/2+1)\n",
      "W2 = PQWOME (f);"
     ],
     "language": "python",
     "metadata": {},
     "outputs": [],
     "prompt_number": 198
    },
    {
     "cell_type": "code",
     "collapsed": false,
     "input": [
      "Xw2 = np.zeros((2, NF/2+1))\n",
      "\n",
      "#Apply outer and middle-ear filtering:\n",
      "Xw2[0,:] = W2*X2R\n",
      "Xw2[1,:] = W2*X2T"
     ],
     "language": "python",
     "metadata": {},
     "outputs": [],
     "prompt_number": 204
    },
    {
     "cell_type": "code",
     "collapsed": false,
     "input": [
      "Xw2"
     ],
     "language": "python",
     "metadata": {},
     "outputs": [
      {
       "metadata": {},
       "output_type": "pyout",
       "prompt_number": 205,
       "text": [
        "array([[  0.00000000e+00,   2.25021529e+02,   6.11008139e-01,\n",
        "          9.88595683e-05,   7.92193998e-13],\n",
        "       [  0.00000000e+00,   2.38564267e+01,   1.78454623e-01,\n",
        "          1.63497463e-05,   7.92193998e-13]])"
       ]
      }
     ],
     "prompt_number": 205
    },
    {
     "cell_type": "markdown",
     "metadata": {},
     "source": [
      "This step has been numerically validated."
     ]
    },
    {
     "cell_type": "code",
     "collapsed": false,
     "input": [
      "XwN2 = zeros(NF/2+1)\n",
      "\n",
      "# Form the difference magnitude signal\n",
      "# I don't understand what this is doing....\n",
      "for k in range(NF/2):\n",
      "    XwN2[k] = (Xw2[0,k] - 2 * np.sqrt (Xw2[0,k] * Xw2[1,k]) \\\n",
      "               + Xw2[1,k])\n"
     ],
     "language": "python",
     "metadata": {},
     "outputs": [],
     "prompt_number": 208
    },
    {
     "cell_type": "code",
     "collapsed": false,
     "input": [
      "XwN2"
     ],
     "language": "python",
     "metadata": {},
     "outputs": [
      {
       "metadata": {},
       "output_type": "pyout",
       "prompt_number": 209,
       "text": [
        "array([  0.00000000e+00,   1.02341822e+02,   1.29047053e-01,\n",
        "         3.48021293e-05,   0.00000000e+00])"
       ]
      }
     ],
     "prompt_number": 209
    },
    {
     "cell_type": "markdown",
     "metadata": {},
     "source": [
      "This step has been numerically validated."
     ]
    },
    {
     "cell_type": "markdown",
     "metadata": {},
     "source": [
      "##2.6 Group into partial critical bands\n",
      "\n",
      "Start with Critical Band Parameters"
     ]
    },
    {
     "cell_type": "code",
     "collapsed": false,
     "input": [
      "#Conversion to Bark Scale and Inverse:\n",
      "#I don't really think we'll need this:\n",
      "B = lambda f: 7*np.arcsinh(f/650)\n",
      "BI = lambda z: 650*np.sinh(z / 7)\n",
      "\n",
      "def PQCB():\n",
      "    #Critical band parameters for the FFT model, for Basic Version:\n",
      "    dz = 1./4\n",
      "    \n",
      "    #I don't see why we can't hardcode this:\n",
      "    Nc = 109\n",
      "\n",
      "    fl = np.array([  80.000,   103.445,   127.023,   150.762,   174.694, \\\n",
      "           198.849,   223.257,   247.950,   272.959,   298.317, \\\n",
      "           324.055,   350.207,   376.805,   403.884,   431.478, \\\n",
      "           459.622,   488.353,   517.707,   547.721,   578.434, \\\n",
      "           609.885,   642.114,   675.161,   709.071,   743.884, \\\n",
      "           779.647,   816.404,   854.203,   893.091,   933.119, \\\n",
      "           974.336,  1016.797,  1060.555,  1105.666,  1152.187, \\\n",
      "          1200.178,  1249.700,  1300.816,  1353.592,  1408.094, \\\n",
      "          1464.392,  1522.559,  1582.668,  1644.795,  1709.021, \\\n",
      "          1775.427,  1844.098,  1915.121,  1988.587,  2064.590, \\\n",
      "          2143.227,  2224.597,  2308.806,  2395.959,  2486.169, \\\n",
      "          2579.551,  2676.223,  2776.309,  2879.937,  2987.238, \\\n",
      "          3098.350,  3213.415,  3332.579,  3455.993,  3583.817, \\\n",
      "          3716.212,  3853.817,  3995.399,  4142.547,  4294.979, \\\n",
      "          4452.890,  4616.482,  4785.962,  4961.548,  5143.463, \\\n",
      "          5331.939,  5527.217,  5729.545,  5939.183,  6156.396, \\\n",
      "          6381.463,  6614.671,  6856.316,  7106.708,  7366.166, \\\n",
      "          7635.020,  7913.614,  8202.302,  8501.454,  8811.450, \\\n",
      "          9132.688,  9465.574,  9810.536, 10168.013, 10538.460, \\\n",
      "         10922.351, 11320.175, 11732.438, 12159.670, 12602.412, \\\n",
      "         13061.229, 13536.710, 14029.458, 14540.103, 15069.295, \\\n",
      "         15617.710, 16186.049, 16775.035, 17385.420 ])\n",
      "    fc = np.array([  91.708,   115.216,   138.870,   162.702,   186.742, \\\n",
      "           211.019,   235.566,   260.413,   285.593,   311.136, \\\n",
      "           337.077,   363.448,   390.282,   417.614,   445.479, \\\n",
      "           473.912,   502.950,   532.629,   562.988,   594.065, \\\n",
      "           625.899,   658.533,   692.006,   726.362,   761.644, \\\n",
      "           797.898,   835.170,   873.508,   912.959,   953.576, \\\n",
      "           995.408,  1038.511,  1082.938,  1128.746,  1175.995, \\\n",
      "          1224.744,  1275.055,  1326.992,  1380.623,  1436.014, \\\n",
      "          1493.237,  1552.366,  1613.474,  1676.641,  1741.946, \\\n",
      "          1809.474,  1879.310,  1951.543,  2026.266,  2103.573, \\\n",
      "          2183.564,  2266.340,  2352.008,  2440.675,  2532.456, \\\n",
      "          2627.468,  2725.832,  2827.672,  2933.120,  3042.309, \\\n",
      "          3155.379,  3272.475,  3393.745,  3519.344,  3649.432, \\\n",
      "          3784.176,  3923.748,  4068.324,  4218.090,  4373.237, \\\n",
      "          4533.963,  4700.473,  4872.978,  5051.700,  5236.866, \\\n",
      "          5428.712,  5627.484,  5833.434,  6046.825,  6267.931, \\\n",
      "          6497.031,  6734.420,  6980.399,  7235.284,  7499.397, \\\n",
      "          7773.077,  8056.673,  8350.547,  8655.072,  8970.639, \\\n",
      "          9297.648,  9636.520,  9987.683, 10351.586, 10728.695, \\\n",
      "         11119.490, 11524.470, 11944.149, 12379.066, 12829.775, \\\n",
      "         13294.850, 13780.887, 14282.503, 14802.338, 15341.057, \\\n",
      "         15899.345, 16477.914, 17077.504, 17690.045 ])\n",
      "    fu = np.array([ 103.445,   127.023,   150.762,   174.694,   198.849, \\\n",
      "           223.257,   247.950,   272.959,   298.317,   324.055, \\\n",
      "           350.207,   376.805,   403.884,   431.478,   459.622, \\\n",
      "           488.353,   517.707,   547.721,   578.434,   609.885, \\\n",
      "           642.114,   675.161,   709.071,   743.884,   779.647, \\\n",
      "           816.404,   854.203,   893.091,   933.113,   974.336, \\\n",
      "          1016.797,  1060.555,  1105.666,  1152.187,  1200.178, \\\n",
      "          1249.700,  1300.816,  1353.592,  1408.094,  1464.392, \\\n",
      "          1522.559,  1582.668,  1644.795,  1709.021,  1775.427, \\\n",
      "          1844.098,  1915.121,  1988.587,  2064.590,  2143.227, \\\n",
      "          2224.597,  2308.806,  2395.959,  2486.169,  2579.551, \\\n",
      "          2676.223,  2776.309,  2879.937,  2987.238,  3098.350, \\\n",
      "          3213.415,  3332.579,  3455.993,  3583.817,  3716.212, \\\n",
      "          3853.348,  3995.399,  4142.547,  4294.979,  4452.890, \\\n",
      "          4643.482,  4785.962,  4961.548,  5143.463,  5331.939, \\\n",
      "          5527.217,  5729.545,  5939.183,  6156.396,  6381.463, \\\n",
      "          6614.671,  6856.316,  7106.708,  7366.166,  7635.020, \\\n",
      "          7913.614,  8202.302,  8501.454,  8811.450,  9132.688, \\\n",
      "          9465.574,  9810.536, 10168.013, 10538.460, 10922.351, \\\n",
      "         11320.175, 11732.438, 12159.670, 12602.412, 13061.229, \\\n",
      "         13536.710, 14029.458, 14540.103, 15069.295, 15617.710, \\\n",
      "         16186.049, 16775.035, 17385.420, 18000.000 ])\n",
      "    \n",
      "    return Nc, fc, fl, fu, dz"
     ],
     "language": "python",
     "metadata": {},
     "outputs": [],
     "prompt_number": 268
    },
    {
     "cell_type": "code",
     "collapsed": false,
     "input": [
      "f = linspace(0, 24000, 1000)\n",
      "plot(f, B(f))\n",
      "grid(1)"
     ],
     "language": "python",
     "metadata": {},
     "outputs": [
      {
       "metadata": {},
       "output_type": "display_data",
       "png": "[encoded data removed]",
       "text": [
        "<matplotlib.figure.Figure at 0x1064c6950>"
       ]
      }
     ],
     "prompt_number": 269
    },
    {
     "cell_type": "code",
     "collapsed": false,
     "input": [
      "def PQ_CBMapping(NF, Fs):\n",
      "\n",
      "    (Nc, fc, fl, fu, dz) = PQCB();\n",
      "\n",
      "    #Fill in the DFT bin to critical band mappings"
     ],
     "language": "python",
     "metadata": {},
     "outputs": [],
     "prompt_number": 270
    },
    {
     "cell_type": "code",
     "collapsed": false,
     "input": [
      "(Nc, fc, fl, fu, dz) = PQCB();\n",
      "\n",
      "# Fill in the DFT bin to critical band mappings\n",
      "# This implementation does not seem so efficient\n",
      "# Looking at the octave code, I see that this operation is only run once, that makes sense. \n",
      "# The ouput is a mapping, I'm not quite sure what this looks like functionally just yet. \n",
      "\n",
      "df = float(Fs) / NF;\n",
      "for i in range(Nc-1):\n",
      "    fli = fl[i]\n",
      "    fui = fu[i]\n",
      "    for k in range(NF/2):\n",
      "        if ((k+0.5)*df > fli):\n",
      "            kl(i+1) = k;        # First bin in band i\n",
      "            Ul(i+1) = (min(fui, (k+0.5)*df) \\\n",
      "                       - max(fli, (k-0.5)*df)) / df;\n",
      "            break;\n",
      "        \n",
      "    for (k = NF/2:-1:0)\n",
      "        if ((k-0.5)*df < fui)\n",
      "            ku(i+1) = k;        % Last bin in band i\n",
      "            if (kl(i+1) == ku(i+1))\n",
      "                Uu(i+1) = 0;       % Single bin in band\n",
      "            else\n",
      "                Uu(i+1) = (min(fui, (k+0.5)*df) ...\n",
      "                           - max(fli, (k-0.5)*df)) / df;\n",
      "            end\n",
      "            break;\n",
      "        end\n",
      "    end\n",
      "end"
     ],
     "language": "python",
     "metadata": {},
     "outputs": [],
     "prompt_number": 271
    },
    {
     "cell_type": "code",
     "collapsed": false,
     "input": [
      "Nc"
     ],
     "language": "python",
     "metadata": {},
     "outputs": [
      {
       "metadata": {},
       "output_type": "pyout",
       "prompt_number": 272,
       "text": [
        "109"
       ]
      }
     ],
     "prompt_number": 272
    },
    {
     "cell_type": "code",
     "collapsed": false,
     "input": [],
     "language": "python",
     "metadata": {},
     "outputs": [],
     "prompt_number": 273
    },
    {
     "cell_type": "code",
     "collapsed": false,
     "input": [],
     "language": "python",
     "metadata": {},
     "outputs": [],
     "prompt_number": 273
    },
    {
     "cell_type": "code",
     "collapsed": false,
     "input": [],
     "language": "python",
     "metadata": {},
     "outputs": [],
     "prompt_number": 273
    },
    {
     "cell_type": "code",
     "collapsed": false,
     "input": [],
     "language": "python",
     "metadata": {},
     "outputs": []
    }
   ],
   "metadata": {}
  }
 ]
}