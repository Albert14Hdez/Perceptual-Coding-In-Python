{
 "metadata": {
  "name": "",
  "signature": "sha256:7126f4888ab11495e64b05ed73d7c037b7c1c3c424be62900b38a1b811d18df3"
 },
 "nbformat": 3,
 "nbformat_minor": 0,
 "worksheets": [
  {
   "cells": [
    {
     "cell_type": "markdown",
     "metadata": {},
     "source": [
      "#Explore PEAQ\n",
      "\n",
      "Stephen Welch and Matthew Cohen\n",
      "\n",
      "Begin Exploring the inner workings of the PEAQ algorithm. Based largely on: \n",
      "\n",
      "http://www-mmsp.ece.mcgill.ca/documents/Reports/2002/KabalR2002v2.pdf\n",
      "\n",
      "And supporting MATLAB code. "
     ]
    },
    {
     "cell_type": "markdown",
     "metadata": {},
     "source": [
      "##2.2 Windowing"
     ]
    },
    {
     "cell_type": "code",
     "collapsed": false,
     "input": [
      "#Method to make hanning window, given lenth of window:\n",
      "def PQHannWin(NF):\n",
      "    n = np.arange(0, NF)\n",
      "    hw = 0.5*(1-np.cos(2*np.pi*n/(NF-1)))\n",
      "    return hw"
     ],
     "language": "python",
     "metadata": {},
     "outputs": [],
     "prompt_number": 2
    },
    {
     "cell_type": "code",
     "collapsed": false,
     "input": [
      "hw = PQHannWin(2048)\n",
      "plot(hw)\n",
      "grid(1)"
     ],
     "language": "python",
     "metadata": {},
     "outputs": [
      {
       "metadata": {},
       "output_type": "display_data",
       "png": "[encoded data removed]",
       "text": [
        "<matplotlib.figure.Figure at 0x106469990>"
       ]
      }
     ],
     "prompt_number": 3
    },
    {
     "cell_type": "markdown",
     "metadata": {},
     "source": [
      "##2.4 Calibration of Loudness Scaling Factor\n",
      "This part honestly confuses the heck out of me right now, I have no idea why it needs to be so complex."
     ]
    },
    {
     "cell_type": "code",
     "collapsed": false,
     "input": [
      "def PQ_GL(NF, Amax, fcN, Lp):\n",
      "    #Scaled Hann window, including loudness scaling\n",
      "    # Calculate the gain for the Hann Window\n",
      "    #  - level Lp (SPL) corresponds to a sine with normalized frequency\n",
      "    #    fcN and a peak value of Amax\n",
      "    \n",
      "    W = NF-1\n",
      "    gp = PQ_gp(fcN, NF, W)\n",
      "    GL = 10**(Lp/20.) / (gp *Amax/4 *W)\n",
      "    return GL\n",
      "    \n",
      "def PQ_gp(fcN, NF, W):\n",
      "    # Calculate the peak factor. The signal is a sinusoid windowed with\n",
      "    # a Hann window. The sinusoid frequency falls between DFT bins. The\n",
      "    # peak of the frequency response (on a continuous frequency scale) falls\n",
      "    # between DFT bins. The largest DFT bin value is the peak factor times\n",
      "    # the peak of the continuous response.\n",
      "    # fcN - Normalized sinusoid frequency (0-1)\n",
      "    # NF  - Frame (DFT) length samples\n",
      "    # NW  - Window length samples\n",
      "\n",
      "    #Distance to the nearest DFT bin\n",
      "    df = 1./NF\n",
      "    k = floor(fcN/df)\n",
      "    dfN = amin([(k+1)*df - fcN, fcN -k*df])\n",
      "    \n",
      "    dfW = dfN*W\n",
      "    gp = np.sin(np.pi*dfW) / (np.pi*dfW*(1-dfW**2))\n",
      "    return gp"
     ],
     "language": "python",
     "metadata": {},
     "outputs": [],
     "prompt_number": 41
    },
    {
     "cell_type": "code",
     "collapsed": false,
     "input": [
      "test = np.arange(0, 8)\n",
      "NF = len(test)"
     ],
     "language": "python",
     "metadata": {},
     "outputs": [],
     "prompt_number": 125
    },
    {
     "cell_type": "code",
     "collapsed": false,
     "input": [
      "#Create new, scaled hamming window. \n",
      "\n",
      "Amax = 32768\n",
      "fc = 1019.5\n",
      "Fs = 48000\n",
      "Lp = 92.\n",
      "\n",
      "GL = PQ_GL(NF, Amax, fc/Fs, Lp)\n"
     ],
     "language": "python",
     "metadata": {},
     "outputs": [],
     "prompt_number": 126
    },
    {
     "cell_type": "code",
     "collapsed": false,
     "input": [
      "GL"
     ],
     "language": "python",
     "metadata": {},
     "outputs": [
      {
       "metadata": {},
       "output_type": "pyout",
       "prompt_number": 127,
       "text": [
        "0.70422617278435529"
       ]
      }
     ],
     "prompt_number": 127
    },
    {
     "cell_type": "markdown",
     "metadata": {},
     "source": [
      "Ok, so in Kabal 2002, he says that GL should be 3.504 for these values, but we get .00279. However, when I run Kabal's code, I also get 0.00279, so we'll go with it for now. "
     ]
    },
    {
     "cell_type": "code",
     "collapsed": false,
     "input": [
      "hw = GL * PQHannWin (NF);"
     ],
     "language": "python",
     "metadata": {},
     "outputs": [],
     "prompt_number": 128
    },
    {
     "cell_type": "code",
     "collapsed": false,
     "input": [
      "hw"
     ],
     "language": "python",
     "metadata": {},
     "outputs": [
      {
       "metadata": {},
       "output_type": "pyout",
       "prompt_number": 139,
       "text": [
        "array([ 0.        ,  0.13257417,  0.43046562,  0.66935602,  0.66935602,\n",
        "        0.43046562,  0.13257417,  0.        ])"
       ]
      }
     ],
     "prompt_number": 139
    },
    {
     "cell_type": "code",
     "collapsed": false,
     "input": [
      "plot(hw)\n",
      "grid(1)"
     ],
     "language": "python",
     "metadata": {},
     "outputs": [
      {
       "metadata": {},
       "output_type": "display_data",
       "png": "[encoded data removed]",
       "text": [
        "<matplotlib.figure.Figure at 0x106642dd0>"
       ]
      }
     ],
     "prompt_number": 129
    },
    {
     "cell_type": "code",
     "collapsed": false,
     "input": [
      "sum(hw)"
     ],
     "language": "python",
     "metadata": {},
     "outputs": [
      {
       "metadata": {},
       "output_type": "pyout",
       "prompt_number": 130,
       "text": [
        "2.4647916047452432"
       ]
      }
     ],
     "prompt_number": 130
    },
    {
     "cell_type": "code",
     "collapsed": false,
     "input": [
      "#Perform windowing:\n",
      "xw = hw*test"
     ],
     "language": "python",
     "metadata": {},
     "outputs": [],
     "prompt_number": 132
    },
    {
     "cell_type": "code",
     "collapsed": false,
     "input": [
      "xw"
     ],
     "language": "python",
     "metadata": {},
     "outputs": [
      {
       "metadata": {},
       "output_type": "pyout",
       "prompt_number": 140,
       "text": [
        "array([ 0.        ,  0.13257417,  0.86093124,  2.00806805,  2.67742406,\n",
        "        2.1523281 ,  0.79544501,  0.        ])"
       ]
      }
     ],
     "prompt_number": 140
    },
    {
     "cell_type": "markdown",
     "metadata": {},
     "source": [
      "###FFT Time!"
     ]
    },
    {
     "cell_type": "code",
     "collapsed": false,
     "input": [
      "def PQRFFT (x, N, ifn):\n",
      "    # Calculate the DFT of a real N-point sequence or the inverse\n",
      "    # DFT corresponding to a real N-point sequence.\n",
      "    # ifn > 0, forward transform\n",
      "    #          input x(n)  - N real values\n",
      "    #          output X(k) - The first N/2+1 points are the real\n",
      "    #            parts of the transform, the next N/2-1 points\n",
      "    #            are the imaginary parts of the transform. However\n",
      "    #            the imaginary part for the first point and the\n",
      "    #            middle point which are known to be zero are not\n",
      "    #            stored.\n",
      "    # ifn < 0, inverse transform\n",
      "    #          input X(k) - The first N/2+1 points are the real\n",
      "    #            parts of the transform, the next N/2-1 points\n",
      "    #            are the imaginary parts of the transform. However\n",
      "    #            the imaginary part for the first point and the\n",
      "    #            middle point which are known to be zero are not\n",
      "    #            stored. \n",
      "    #          output x(n) - N real values\n",
      "\n",
      "\n",
      "    if (ifn > 0):\n",
      "        X = fft.fft (x, N)\n",
      "        XR = real(X[0:N/2+1])\n",
      "        XI = imag(X[1:N/2-1+1])\n",
      "        X = np.concatenate([XR, XI])\n",
      "        return X\n",
      "    else:\n",
      "        raise Exception('ifft Not Implemented Yet -SW')"
     ],
     "language": "python",
     "metadata": {},
     "outputs": [],
     "prompt_number": 134
    },
    {
     "cell_type": "code",
     "collapsed": false,
     "input": [
      "X = PQRFFT(xw, NF, 1)"
     ],
     "language": "python",
     "metadata": {},
     "outputs": [],
     "prompt_number": 135
    },
    {
     "cell_type": "markdown",
     "metadata": {},
     "source": [
      "##Squared Magnitude:"
     ]
    },
    {
     "cell_type": "code",
     "collapsed": false,
     "input": [
      "def PQRFFTMSq(X, N):\n",
      "# Calculate the magnitude squared frequency response from the\n",
      "# DFT values corresponding to a real signal (assumes N is even)\n",
      "\n",
      "    X2 = np.zeros(N/2+1)\n",
      "\n",
      "    X2[0] = X[0]**2\n",
      "    for k in range(N/2-1):\n",
      "        X2[k+1] = X[k+1]**2 + X[N/2+k+1]**2\n",
      "\n",
      "    X2[N/2] = X[N/2]**2\n",
      "    return X2"
     ],
     "language": "python",
     "metadata": {},
     "outputs": [],
     "prompt_number": 136
    },
    {
     "cell_type": "code",
     "collapsed": false,
     "input": [
      "X2 = PQRFFTMSq(X, NF)"
     ],
     "language": "python",
     "metadata": {},
     "outputs": [],
     "prompt_number": 137
    },
    {
     "cell_type": "code",
     "collapsed": false,
     "input": [
      "X2"
     ],
     "language": "python",
     "metadata": {},
     "outputs": [
      {
       "metadata": {},
       "output_type": "pyout",
       "prompt_number": 138,
       "text": [
        "array([  7.44211713e+01,   3.05346932e+01,   1.11917582e+00,\n",
        "         3.45693288e-02,   1.66708867e-03])"
       ]
      }
     ],
     "prompt_number": 138
    },
    {
     "cell_type": "markdown",
     "metadata": {},
     "source": [
      "Great, agrees with octave code for simple test input!"
     ]
    },
    {
     "cell_type": "markdown",
     "metadata": {},
     "source": [
      "##Outer and middle Ear Filtering"
     ]
    },
    {
     "cell_type": "code",
     "collapsed": false,
     "input": [],
     "language": "python",
     "metadata": {},
     "outputs": []
    }
   ],
   "metadata": {}
  }
 ]
}