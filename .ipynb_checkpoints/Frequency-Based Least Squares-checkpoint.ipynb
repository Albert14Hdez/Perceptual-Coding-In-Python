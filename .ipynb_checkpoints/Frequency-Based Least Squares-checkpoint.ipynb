{
 "metadata": {
  "name": "",
  "signature": "sha256:f04c4d9f3b0b15fa5757747496f9fc41629e20b97d1ac9fbc73ff498208df9d2"
 },
 "nbformat": 3,
 "nbformat_minor": 0,
 "worksheets": [
  {
   "cells": [
    {
     "cell_type": "markdown",
     "metadata": {},
     "source": [
      "#Frequency-Based Least Squares\n",
      "* Optimal Square Error Least Squares Filter Design\n",
      "* Matthew Cohen - March 19, 2015"
     ]
    },
    {
     "cell_type": "code",
     "collapsed": false,
     "input": [],
     "language": "python",
     "metadata": {},
     "outputs": [],
     "prompt_number": 0
    },
    {
     "cell_type": "markdown",
     "metadata": {},
     "source": [
      "##Linear-Phase FIR Filter Design by Least Squares"
     ]
    },
    {
     "cell_type": "markdown",
     "metadata": {},
     "source": [
      "The following describes a process for computing the filter coefficients for a linear-phase FIR filter by using a least-squares/optimal square error design method. It is essentially a frequency-based least squares/modeling technique that could be useful for other frequency modeling/comparison formulations.\n",
      "\n",
      "###Advantages:\n",
      "* Optimal with respect to square error criterion\n",
      "* Simple, non-iterative method\n",
      "* Analytic solutions sometimes possible, otherwise obtained via solution to linear system of equations\n",
      "* Allows use of frequency dependent weighting function\n",
      "* Suitable for arbitrary weighting functions and desired responses\n",
      "* Easy to include arbitrary linear constraints"
     ]
    },
    {
     "cell_type": "markdown",
     "metadata": {},
     "source": [
      "###Problem Formulation:\n",
      "* Define $A(\\omega)$ as the actual amplitude response, $D(\\omega)$ as the ideal amplitude response, $W(\\omega)$ as a non-negative weighting function.\n",
      "* Given a filter length N, a desired amplitude function $D(\\omega)$, and a non-negative weighting function $W(\\omega)$, find the symmetric filter that minimizes the weighted integral square error (or \"L2 error\"), defined by:\n",
      "\n",
      "$$ \\varepsilon_2 = \\int_{0}^{\\pi} W(\\omega)[A(\\omega) - D(\\omega)]^2 d\\omega$$ \n",
      "\n",
      "* Once the filter length N and filter Type (I, II, III, or IV) are chosen, the goal is to find the filter coefficients h(n) that minimize $\\varepsilon_2$.\n",
      "* Here, we consider Type I FIR filters. Type I = Symmetric Impulse Response with Odd Length\n",
      "* For Type I filters, the amplitude response is given by:\n",
      "\n",
      "$$A(\\omega) = \\sum_{n=0}^{M} a(n) cos(\\omega n)$$\n",
      "\n",
      "where $$a(0) = h(M)$$\n",
      "\n",
      "$$a(n) = 2h(M-n), for 1 \\leq n \\leq M$$\n",
      "\n",
      "$$M = \\frac{N-1}{2}$$\n",
      "\n",
      "* Why is this true? Derivation: for length N filter h(n) (h(n) = 0 for n < 0, n > (N-1))\n",
      "\n",
      "$$H(\\omega) = \\sum_{n=0}^{N-1} h(n) {e}^{-j \\omega n} = h(0){e}^{-j \\omega (0)} + h(1) {e}^{-j \\omega (1)} + ... + h(N-2){e}^{-j \\omega (N-2)} + h(N-1){e}^{-j \\omega (N-1)}$$\n",
      "\n",
      "Consider the first and last terms:\n",
      "\n",
      "$$h(0){e}^{-j \\omega (0)} + h(N-1){e}^{-j \\omega (N-1)} = {e}^{-j \\omega (N-1)/2} [h(0){e}^{j \\omega (N-1)/2} + h(N-1){e}^{-j \\omega (N-1)/2}]$$\n",
      "\n",
      "Now, since the filter is symmetric (Type I), h(0) = h(N-1), h(1) = h(N-2), etc.\n",
      "\n",
      "From this, we have:\n",
      "\n",
      "$$h(0){e}^{-j \\omega (0)} + h(N-1){e}^{-j \\omega (N-1)} = {e}^{-j \\omega (N-1)/2} (h(0))[{e}^{j \\omega (N-1)/2} + {e}^{-j \\omega (N-1)/2}]$$\n",
      "\n",
      "By Euler's formula, we know that: $$2\\cos(\\theta) = {e}^{j \\theta} + {e}^{-j \\theta}$$\n",
      "\n",
      "This simplifies the expression to:\n",
      "\n",
      "$$h(0){e}^{-j \\omega (0)} + h(N-1){e}^{-j \\omega (N-1)} = {e}^{-j \\omega (N-1)/2} h(0)[2\\cos(\\frac{N-1}{2} \\omega)]$$\n",
      "\n",
      "The symmetric pairs can be grouped together to form sample-cosine products. However, the filter has odd length, so there is a single middle sample that is not paired with another sample, at $n = \\frac{N-1}{2}$. Also, since we can group the pairs, we reduce the range of necessary sample indices to go from $n = 0$ to $n = \\frac{N-1}{2}$.\n",
      "\n",
      "So, we get:\n",
      "\n",
      "$$H(\\omega) = h(\\frac{N-1}{2}) + 2h(\\frac{N-1}{2} - (\\frac{N-1}{2}))\\cos(\\frac{N-1}{2}\\omega) + ...$$\n",
      "\n",
      "or $$H(\\omega) = h(M) + \\sum_{n=1}^{M} 2h(M-n)\\cos(\\omega n) = \\sum_{n=0}^{M} a(n)\\cos(\\omega n)$$\n",
      "\n",
      "where\n",
      "\n",
      "$$M = \\frac{N-1}{2}$$\n",
      "\n",
      "$$a(0) = h(M)$$\n",
      "\n",
      "$$a(n) = 2h(M-n), 1 \\leq n \\leq M$$"
     ]
    },
    {
     "cell_type": "markdown",
     "metadata": {},
     "source": [
      "###Derivation:\n",
      "\n",
      "To obtain the coefficients a(n) to minimize $\\varepsilon_2$, take the derivative of the square error $\\varepsilon_2$ and set it equal to 0:\n",
      "\n",
      "$$\\frac{\\mathrm d}{\\mathrm da_k}(\\varepsilon_2) = 0, 0 \\leq k \\leq M$$\n",
      "\n",
      "$$\\frac{\\mathrm d}{\\mathrm da_k}(\\varepsilon_2) = \\int_{0}^{\\pi} \\frac{d W(\\omega) [A(\\omega) - D(\\omega)]^2}{da_k} d\\omega$$ \n",
      "\n",
      "$$= 2 \\int_{0}^{\\pi} W(\\omega) (A(\\omega) - D(\\omega)) \\frac{d A(\\omega)}{da_k} d\\omega$$\n",
      "\n",
      "$$= 2 \\int_{0}^{\\pi} W(\\omega) (A(\\omega) - D(\\omega)) \\cos(k\\omega) d\\omega$$\n",
      "\n",
      "Then,\n",
      "\n",
      "$$\\frac{\\mathrm d}{\\mathrm da_k}(\\varepsilon_2) = 0 = 2 \\int_{0}^{\\pi} W(\\omega) (A(\\omega) - D(\\omega)) \\cos(k\\omega) d\\omega$$\n",
      "\n",
      "From this, we get:\n",
      "\n",
      "$$\\int_{0}^{\\pi} W(\\omega)A(\\omega) \\cos(k\\omega) d\\omega = \\int_{0}^{\\pi} W(\\omega) D(\\omega) \\cos(k\\omega) d\\omega$$\n",
      "\n",
      "$$\\int_{0}^{\\pi} W(\\omega) [\\sum_{n=0}^{M} a(n)\\cos(n \\omega)] \\cos(k\\omega) d\\omega = \\int_{0}^{\\pi} W(\\omega) D(\\omega) \\cos(k\\omega) d\\omega$$\n",
      "\n",
      "$$\\sum_{n=0}^{M} a(n) \\int_{0}^{\\pi} W(\\omega) \\cos(n \\omega) \\cos(k\\omega) d\\omega = \\int_{0}^{\\pi} W(\\omega) D(\\omega) \\cos(k\\omega) d\\omega$$\n",
      "\n",
      "Define \n",
      "$$Q(k,n) = \\frac{1}{\\pi} \\int_{0}^{\\pi} W(\\omega)\\cos(n\\omega)\\cos(k\\omega) d\\omega$$\n",
      "and \n",
      "$$b(k) = \\frac{1}{\\pi} \\int_{0}^{\\pi} W(\\omega)D(\\omega)\\cos(k\\omega) d\\omega$$\n",
      "\n",
      "Then the derivative condition becomes:\n",
      "\n",
      "$$\\sum_{n=0}^{M} a(n) [(\\pi) Q(k,n)] = (\\pi) b(k)$$\n",
      "\n",
      "or\n",
      "\n",
      "$$\\sum_{n=0}^{M} Q(k,n) a(n) = b(k), 0 \\leq k \\leq M$$\n",
      "\n",
      "This is a linear system of equations that can be written in matrix form as:\n",
      "\n",
      "$$ \\textbf{Qa} = \\textbf{b} $$\n",
      "\n",
      "or \n",
      "\n",
      "$$\\begin{bmatrix}\n",
      "    Q(0,0)      & Q(0,1) & \\dots & Q(0,M) \\\\\n",
      "    Q(1,0)      & Q(1,1) & \\dots & Q(1,M) \\\\\n",
      "    ...       & ... & ... & ... \\\\\n",
      "    Q(M,0)      & Q(M,1) & \\dots & Q(M,M)\n",
      "\\end{bmatrix} = \n",
      "\\begin{bmatrix}\n",
      "    b(0)  \\\\\n",
      "    b(1)  \\\\\n",
      "    ...     \\\\\n",
      "    b(M)  \n",
      "\\end{bmatrix}$$\n",
      "\n",
      "The solution to this is $\\textbf{a} = Q^{-1} \\textbf{b}$."
     ]
    },
    {
     "cell_type": "markdown",
     "metadata": {},
     "source": [
      "###Structure of Matrix Q\n",
      "\n",
      "The matrix $\\textbf{Q}$ has a special structure. Note that $\\cos(n\\omega)\\cos(k\\omega) = \\frac{1}{2}\\cos((k-n)\\omega) + \\frac{1}{2}\\cos((k+n)\\omega)$, so that:\n",
      "\n",
      "$$Q(k,n) = \\frac{1}{\\pi} \\int_{0}^{\\pi} W(\\omega)\\cos(n\\omega)\\cos(k\\omega) d\\omega$$\n",
      "\n",
      "$$= \\frac{1}{2\\pi} \\int_{0}^{\\pi} W(\\omega)\\cos((k-n)\\omega) d\\omega + \\frac{1}{2\\pi} \\int_{0}^{\\pi} W(\\omega)\\cos((k+n)\\omega) d\\omega$$\n",
      "\n",
      "or\n",
      "\n",
      "$$Q(k,n) = \\frac{1}{2}Q_{1} (k,n) + \\frac{1}{2}Q_{2} (k,n)$$\n",
      "\n",
      "where\n",
      "\n",
      "$$Q_{1} (k,n) = \\frac{1}{\\pi} \\int_{0}^{\\pi} W(\\omega)\\cos((k-n)\\omega) d\\omega$$\n",
      "\n",
      "$$Q_{2} (k,n) = \\frac{1}{\\pi} \\int_{0}^{\\pi} W(\\omega)\\cos((k+n)\\omega) d\\omega$$\n",
      "\n",
      "Letting $q(n) = \\frac{1}{\\pi} \\int_{0}^{\\pi} W(\\omega)\\cos(n\\omega) d\\omega$, we can write\n",
      "\n",
      "$$Q_{1} (k,n) = q(k-n)$$\n",
      "\n",
      "$$Q_{2} (k,n) = q(k+n)$$\n",
      "\n",
      "Note that q(n) is even, i.e. $q(n) = q(-n)$.\n",
      "\n",
      "With this notation, matrices $Q_1$ and $Q_2$ are:\n",
      "\n",
      "$$Q_1 = \\begin{bmatrix}\n",
      "    q(0)      & q(1) & \\dots & q(M) \\\\\n",
      "    q(1)      & q(0) & \\dots & q(M-1) \\\\\n",
      "    ...       & ... & ... & ... \\\\\n",
      "    q(M)      & q(M-1) & \\dots & q(0)\n",
      "\\end{bmatrix}$$\n",
      "\n",
      "$$Q_2 = \\begin{bmatrix}\n",
      "    q(0)      & q(1) & \\dots & q(M) \\\\\n",
      "    q(1)      & q(2) & \\dots & q(M+1) \\\\\n",
      "    ...       & ... & ... & ... \\\\\n",
      "    q(M)      & q(M+1) & \\dots & q(2M)\n",
      "\\end{bmatrix}$$\n",
      "\n",
      "Note that $Q_1$ is a symmetric Toeplitz matrix (constant along diagonals) and $Q_2$ is a Hankel matrix (constant along anti-diagonals).\n"
     ]
    },
    {
     "cell_type": "markdown",
     "metadata": {},
     "source": [
      "###Relation to DTFT\n",
      "\n",
      "To express q(n) and b(k) using the inverse Fourier transform, extend $D(\\omega)$ and $W(\\omega)$ symmetrically, so that $D(-\\omega) = D(\\omega)$ and $W(-\\omega) = W(\\omega)$. Then,\n",
      "\n",
      "$$q(n) = \\frac{1}{2\\pi} \\int_{-\\pi}^{\\pi}W(\\omega)\\cos(n\\omega) d\\omega$$\n",
      "\n",
      "As sine is an anti-symmetric function,\n",
      "\n",
      "$$\\int_{-\\pi}^{\\pi}W(\\omega)\\sin(n\\omega) d\\omega = 0$$\n",
      "\n",
      "so\n",
      "\n",
      "$$q(n) = \\frac{1}{2\\pi} \\int_{-\\pi}^{\\pi}W(\\omega)[\\cos(n\\omega) + i\\sin(n\\omega)] d\\omega$$\n",
      "\n",
      "$$= \\frac{1}{2\\pi} \\int_{-\\pi}^{\\pi}W(\\omega) {e}^{in\\omega} d\\omega$$\n",
      "\n",
      "This is the expression for the inverse DTFT. So, $q(n) = DTFT^{-1} (W(\\omega))$.\n",
      "\n",
      "Similarly, $b(k) = DTFT^{-1} (W(\\omega) D(\\omega))$.\n",
      "\n",
      "An issue here us that this assumes that $W(\\omega)$ and $D(\\omega)$ are nicely integrable, with analytic solutions to integrals.\n",
      "* What if this is not the case?\n",
      "* Can this be solved numerically? The answer is YES! This can be done using a discretized approach."
     ]
    },
    {
     "cell_type": "markdown",
     "metadata": {},
     "source": [
      "###General Discrete Square Error\n",
      "\n",
      "When no analytic expressions are available for the inverse DTFT of $D(\\omega)$ and $W(\\omega)$, then one may consider the discrete square error measure:\n",
      "\n",
      "$$\\varepsilon_2 = \\sum_{k=1}^{L} W(\\omega_k) (A(\\omega_k) - D(\\omega_k))^2$$\n",
      "\n",
      "where $\\omega_k$ are a set of frequency points which are not necessarily uniformly spaced.\n",
      "\n",
      "Now, define \n",
      "\n",
      "$$A_k = A(\\omega_k)$$\n",
      "\n",
      "$$D_k = D(\\omega_k)$$\n",
      "\n",
      "$$W_k = W(\\omega_k), 1 \\leq k \\leq L$$\n",
      "\n",
      "Then the error function\n",
      "\n",
      "$$e_k = A_k - D_k$$\n",
      "\n",
      "or \n",
      "\n",
      "$$e_k = \\sum_{n=0}^{M} a(n)\\cos(n\\omega_k) - D_k$$\n",
      "\n",
      "can be written in matrix form as:\n",
      "\n",
      "$$\\begin{bmatrix}\n",
      "    e_1  \\\\\n",
      "    e_2  \\\\\n",
      "    ...     \\\\\n",
      "    e_L  \n",
      "\\end{bmatrix} = \n",
      "\\begin{bmatrix}\n",
      "    1      & cos(\\omega_1) & \\dots & cos(M\\omega_1) \\\\\n",
      "    1      & cos(\\omega_2) & \\dots & cos(M\\omega_2) \\\\\n",
      "    ...       & ... & ... & ... \\\\\n",
      "    1      & cos(\\omega_L) & \\dots & cos(M\\omega_L)\n",
      "\\end{bmatrix} \n",
      "\\begin{bmatrix}\n",
      "    a(0)  \\\\\n",
      "    a(1)  \\\\\n",
      "    ...     \\\\\n",
      "    a(M)  \n",
      "\\end{bmatrix}\n",
      "-\n",
      "\\begin{bmatrix}\n",
      "    D_0  \\\\\n",
      "    D_1  \\\\\n",
      "    ...     \\\\\n",
      "    D_L  \n",
      "\\end{bmatrix}$$\n",
      "\n",
      "or, more briefly, as:\n",
      "\n",
      "$$\\textbf{e} = \\textbf{Ca} - \\textbf{D}$$\n",
      "\n",
      "Matrix C has more rows than columns, and we can see that $\\textbf{Ca} = \\textbf{D}$ is an over-determined system of equations.\n",
      "\n",
      "The least squares solution to an over-determined system minimizes the (unweighted) sum of squares of the error vector, which can be compactly written as:\n",
      "\n",
      "$$\\varepsilon_2 = e^{T} e$$\n",
      "\n",
      "The least squares solution is obtained by first multiplying both sides of $\\textbf{Ca} \\approx \\textbf{D}$ on the left by $C^{T}$ to obtain the \"normal equations\"\n",
      "\n",
      "$$C^{T}\\textbf{Ca} = C^{T}\\textbf{D}$$\n",
      "\n",
      "The least squares (unweighted) solution is then:\n",
      "\n",
      "$$\\textbf{a} = (C^{T}C)^{-1} C^{T} D$$\n",
      "\n",
      "The weighted square error solution is obtained by first multiplying on the left by $W = diag(\\sqrt(W_k))$:\n",
      "\n",
      "$$\\textbf{WCa} \\approx \\textbf{WD}$$\n",
      "\n",
      "and then by $C^{T}$:\n",
      "\n",
      "$$C^{T} WCa = C^{T} WD$$\n",
      "\n",
      "Solving this equation gives:\n",
      "\n",
      "$$\\textbf{a} = (C^{T}WC)^{-1} C^{T}WD$$\n",
      "\n",
      "Using this solution, the coefficients $a(n)$ can be computed based on a specified filter length N, a desired ideal response $D(\\omega_k)$, and a specified non-negative weighting function $W(\\omega_k)$. From coefficients $a(n)$, the corresponding filter coefficients $h(n)$ can easily be computed."
     ]
    },
    {
     "cell_type": "markdown",
     "metadata": {},
     "source": [
      "####References\n",
      "\n",
      "[1] \"Linear-Phase FIR Filter Design by Least Squares\", http://cnx.org/contents/eb1ecb35-03a9-4610-ba87-41cd771c95f2@7/Linear-Phase_Fir_Filter_Design\n",
      "[2] \"Linear-Phase FIR Filter Design by Least Squares\", http://eeweb.poly.edu/iselesni/EL713/firls/firls.pdf"
     ]
    },
    {
     "cell_type": "code",
     "collapsed": false,
     "input": [],
     "language": "python",
     "metadata": {},
     "outputs": []
    },
    {
     "cell_type": "markdown",
     "metadata": {},
     "source": [
      "###Method 1: General Discrete Square Error\n",
      "* No analytic expressions for the inverse DTFT of D(w) and W(w) are available"
     ]
    },
    {
     "cell_type": "code",
     "collapsed": false,
     "input": [
      "import numpy as np"
     ],
     "language": "python",
     "metadata": {},
     "outputs": []
    },
    {
     "cell_type": "code",
     "collapsed": false,
     "input": [],
     "language": "python",
     "metadata": {},
     "outputs": [],
     "prompt_number": 1
    },
    {
     "cell_type": "code",
     "collapsed": false,
     "input": [
      "# Discrete Square Error - Matrix Method\n",
      "\n",
      "# Filter Length\n",
      "N = 31\n",
      "M = (N-1)/2\n",
      "\n",
      "# Parameters\n",
      "wo = 0.30*pi   # Cut-off freq\n",
      "wp = 0.26*pi   # Pass-band edge\n",
      "ws = 0.34*pi   # Stop-band edge\n",
      "K = 10         # Stop-band weight\n",
      "L = 2**9        # Grid size\n",
      "w = (pi/L)*(np.arange(L+1)).T  # Frequency grid\n",
      "D = w < wo\n",
      "\n",
      "# Weight Function\n",
      "W = np.diag(np.sqrt((w <= wp) + K*(w >= ws)))\n",
      "\n",
      "WD = np.dot(W,D)\n",
      "WD_rs = WD.reshape(WD.shape[0],1)\n",
      "\n",
      "# Rectangular C matrix\n",
      "w_rs = w.reshape(w.shape[0],1)\n",
      "M_rs = np.arange(M+1)\n",
      "M_rs = M_rs.reshape(M_rs.shape[0],1)\n",
      "C = cos(np.dot(w_rs,M_rs.T))\n",
      "\n",
      "# Solve linear system to get a(n)\n",
      "a = np.linalg.lstsq(np.dot(W,C), WD_rs)\n",
      "a = a[0]\n",
      "\n",
      "# Form impulse response h(n)\n",
      "h1 = a[M:0:-1]\n",
      "h2 = 2*a[0]\n",
      "h2 = h2.reshape(h2.shape[0],1)\n",
      "h3 = a[1:M+1]\n",
      "\n",
      "h12 = np.concatenate((h1,h2))\n",
      "\n",
      "h = np.concatenate((h12,h3))/2\n",
      "\n",
      "plot(h)"
     ],
     "language": "python",
     "metadata": {},
     "outputs": [
      {
       "metadata": {},
       "output_type": "pyout",
       "prompt_number": 2,
       "text": [
        "[<matplotlib.lines.Line2D at 0x10e497dd0>]"
       ]
      },
      {
       "metadata": {},
       "output_type": "display_data",
       "png": "[encoded data removed]",
       "text": [
        "<matplotlib.figure.Figure at 0x10dcbf910>"
       ]
      }
     ],
     "prompt_number": 2
    },
    {
     "cell_type": "code",
     "collapsed": false,
     "input": [
      "print h.shape"
     ],
     "language": "python",
     "metadata": {},
     "outputs": [
      {
       "output_type": "stream",
       "stream": "stdout",
       "text": [
        "(31, 1)\n"
       ]
      }
     ],
     "prompt_number": 3
    },
    {
     "cell_type": "code",
     "collapsed": false,
     "input": [
      "print h"
     ],
     "language": "python",
     "metadata": {},
     "outputs": [
      {
       "output_type": "stream",
       "stream": "stdout",
       "text": [
        "[[ 0.0032874 ]\n",
        " [-0.00112475]\n",
        " [-0.0096287 ]\n",
        " [-0.01539184]\n",
        " [-0.01047298]\n",
        " [ 0.00628718]\n",
        " [ 0.02457685]\n",
        " [ 0.02764336]\n",
        " [ 0.005488  ]\n",
        " [-0.03261346]\n",
        " [-0.05805181]\n",
        " [-0.03859964]\n",
        " [ 0.0382778 ]\n",
        " [ 0.15135485]\n",
        " [ 0.25252988]\n",
        " [ 0.29307405]\n",
        " [ 0.25252988]\n",
        " [ 0.15135485]\n",
        " [ 0.0382778 ]\n",
        " [-0.03859964]\n",
        " [-0.05805181]\n",
        " [-0.03261346]\n",
        " [ 0.005488  ]\n",
        " [ 0.02764336]\n",
        " [ 0.02457685]\n",
        " [ 0.00628718]\n",
        " [-0.01047298]\n",
        " [-0.01539184]\n",
        " [-0.0096287 ]\n",
        " [-0.00112475]\n",
        " [ 0.0032874 ]]\n"
       ]
      }
     ],
     "prompt_number": 4
    },
    {
     "cell_type": "code",
     "collapsed": false,
     "input": [
      "print a"
     ],
     "language": "python",
     "metadata": {},
     "outputs": [
      {
       "output_type": "stream",
       "stream": "stdout",
       "text": [
        "[[ 0.29307405]\n",
        " [ 0.50505976]\n",
        " [ 0.30270969]\n",
        " [ 0.07655561]\n",
        " [-0.07719929]\n",
        " [-0.11610361]\n",
        " [-0.06522692]\n",
        " [ 0.010976  ]\n",
        " [ 0.05528673]\n",
        " [ 0.0491537 ]\n",
        " [ 0.01257436]\n",
        " [-0.02094596]\n",
        " [-0.03078369]\n",
        " [-0.01925741]\n",
        " [-0.0022495 ]\n",
        " [ 0.00657481]]\n"
       ]
      }
     ],
     "prompt_number": 5
    },
    {
     "cell_type": "code",
     "collapsed": false,
     "input": [],
     "language": "python",
     "metadata": {},
     "outputs": [],
     "prompt_number": 23
    },
    {
     "cell_type": "code",
     "collapsed": false,
     "input": [
      "def freq_lstsq(N, L, D, W):\n",
      "    \n",
      "    # Filter Length\n",
      "    M = (N-1)/2\n",
      "\n",
      "    w = (pi/L)*(np.arange(L+1)).T  # Frequency grid\n",
      "\n",
      "    WD = np.dot(W,D)\n",
      "    WD_rs = WD.reshape(WD.shape[0],1)\n",
      "\n",
      "    # Rectangular C matrix\n",
      "    w_rs = w.reshape(w.shape[0],1)\n",
      "    M_rs = np.arange(M+1)\n",
      "    M_rs = M_rs.reshape(M_rs.shape[0],1)\n",
      "    C = cos(np.dot(w_rs,M_rs.T))\n",
      "\n",
      "    # Solve linear system to get a(n)\n",
      "    a = np.linalg.lstsq(np.dot(W,C), WD_rs)\n",
      "    a = a[0]\n",
      "\n",
      "    # Form impulse response h(n)\n",
      "    h1 = a[M:0:-1]\n",
      "    h2 = 2*a[0]\n",
      "    h2 = h2.reshape(h2.shape[0],1)\n",
      "    h3 = a[1:M+1]\n",
      "\n",
      "    h12 = np.concatenate((h1,h2))\n",
      "    \n",
      "    h = np.concatenate((h12,h3))/2\n",
      "    \n",
      "    return h"
     ],
     "language": "python",
     "metadata": {},
     "outputs": [],
     "prompt_number": 24
    },
    {
     "cell_type": "code",
     "collapsed": false,
     "input": [],
     "language": "python",
     "metadata": {},
     "outputs": [],
     "prompt_number": 12
    },
    {
     "cell_type": "code",
     "collapsed": false,
     "input": [
      "# Filter Length\n",
      "N = 31\n",
      "\n",
      "# Parameters\n",
      "wo = 0.30*pi   # Cut-off freq\n",
      "wp = 0.26*pi   # Pass-band edge\n",
      "ws = 0.34*pi   # Stop-band edge\n",
      "K = 10         # Stop-band weight\n",
      "L = 2**9        # Grid size\n",
      "w = (pi/L)*(np.arange(L+1)).T  # Frequency grid\n",
      "D = w < wo\n",
      "\n",
      "# Weight Function\n",
      "W = np.diag(np.sqrt((w <= wp) + K*(w >= ws)))\n",
      "\n",
      "# Create filter using \"freq_lstsq\"\n",
      "h = freq_lstsq(N, L, D, W)"
     ],
     "language": "python",
     "metadata": {},
     "outputs": [],
     "prompt_number": 34
    },
    {
     "cell_type": "code",
     "collapsed": false,
     "input": [],
     "language": "python",
     "metadata": {},
     "outputs": [],
     "prompt_number": 35
    },
    {
     "cell_type": "code",
     "collapsed": false,
     "input": [
      "plot(h)"
     ],
     "language": "python",
     "metadata": {},
     "outputs": [
      {
       "metadata": {},
       "output_type": "pyout",
       "prompt_number": 14,
       "text": [
        "[<matplotlib.lines.Line2D at 0x10ea19d90>]"
       ]
      },
      {
       "metadata": {},
       "output_type": "display_data",
       "png": "[encoded data removed]",
       "text": [
        "<matplotlib.figure.Figure at 0x10e65dd10>"
       ]
      }
     ],
     "prompt_number": 14
    },
    {
     "cell_type": "code",
     "collapsed": false,
     "input": [
      "print h"
     ],
     "language": "python",
     "metadata": {},
     "outputs": [
      {
       "output_type": "stream",
       "stream": "stdout",
       "text": [
        "[[ 0.0032874 ]\n",
        " [-0.00112475]\n",
        " [-0.0096287 ]\n",
        " [-0.01539184]\n",
        " [-0.01047298]\n",
        " [ 0.00628718]\n",
        " [ 0.02457685]\n",
        " [ 0.02764336]\n",
        " [ 0.005488  ]\n",
        " [-0.03261346]\n",
        " [-0.05805181]\n",
        " [-0.03859964]\n",
        " [ 0.0382778 ]\n",
        " [ 0.15135485]\n",
        " [ 0.25252988]\n",
        " [ 0.29307405]\n",
        " [ 0.25252988]\n",
        " [ 0.15135485]\n",
        " [ 0.0382778 ]\n",
        " [-0.03859964]\n",
        " [-0.05805181]\n",
        " [-0.03261346]\n",
        " [ 0.005488  ]\n",
        " [ 0.02764336]\n",
        " [ 0.02457685]\n",
        " [ 0.00628718]\n",
        " [-0.01047298]\n",
        " [-0.01539184]\n",
        " [-0.0096287 ]\n",
        " [-0.00112475]\n",
        " [ 0.0032874 ]]\n"
       ]
      }
     ],
     "prompt_number": 16
    },
    {
     "cell_type": "code",
     "collapsed": false,
     "input": [
      "# Look at the Fourier Transform of h(n)\n",
      "H = np.fft.fft(h.T,1024)"
     ],
     "language": "python",
     "metadata": {},
     "outputs": [],
     "prompt_number": 17
    },
    {
     "cell_type": "code",
     "collapsed": false,
     "input": [
      "print H.shape\n",
      "print H"
     ],
     "language": "python",
     "metadata": {},
     "outputs": [
      {
       "output_type": "stream",
       "stream": "stdout",
       "text": [
        "(1, 1024)\n",
        "[[ 0.98019832+0.j          0.97612354-0.09009583j  0.96393005-0.1794697j\n",
        "  ...,  0.94371028+0.26740448j  0.96393005+0.1794697j\n",
        "   0.97612354+0.09009583j]]\n"
       ]
      }
     ],
     "prompt_number": 21
    },
    {
     "cell_type": "code",
     "collapsed": false,
     "input": [
      "print abs(H)"
     ],
     "language": "python",
     "metadata": {},
     "outputs": [
      {
       "output_type": "stream",
       "stream": "stdout",
       "text": [
        "[[ 0.98019832  0.98027263  0.98049504 ...,  0.98086404  0.98049504\n",
        "   0.98027263]]\n"
       ]
      }
     ],
     "prompt_number": 19
    },
    {
     "cell_type": "code",
     "collapsed": false,
     "input": [
      "Habs = abs(H)\n",
      "\n",
      "plot(Habs.T)"
     ],
     "language": "python",
     "metadata": {},
     "outputs": [
      {
       "metadata": {},
       "output_type": "pyout",
       "prompt_number": 23,
       "text": [
        "[<matplotlib.lines.Line2D at 0x10ff5dc50>]"
       ]
      },
      {
       "metadata": {},
       "output_type": "display_data",
       "png": "[encoded data removed]",
       "text": [
        "<matplotlib.figure.Figure at 0x10e34ebd0>"
       ]
      }
     ],
     "prompt_number": 23
    },
    {
     "cell_type": "markdown",
     "metadata": {},
     "source": [
      "Same results as from the MATLAB code! So numerically validated for the current filter example (lowpass filter)"
     ]
    },
    {
     "cell_type": "code",
     "collapsed": false,
     "input": [],
     "language": "python",
     "metadata": {},
     "outputs": [],
     "prompt_number": 24
    },
    {
     "cell_type": "markdown",
     "metadata": {},
     "source": [
      "###Example 2 - Least Squares Fitting an Audio Signal"
     ]
    },
    {
     "cell_type": "code",
     "collapsed": false,
     "input": [
      "from scikits.audiolab import wavread\n",
      "\n",
      "mic1, Fs, enc = wavread('exports/timeAligned_mic1_10sec.wav')\n",
      "mic2, Fs, enc = wavread('exports/timeAligned_mic2_10sec.wav')\n",
      "mic3, Fs, enc = wavread('exports/timeAligned_mic3_10sec.wav')\n",
      "piezo, Fs, enc = wavread('exports/timeAligned_piezo_10sec.wav')"
     ],
     "language": "python",
     "metadata": {},
     "outputs": [],
     "prompt_number": 25
    },
    {
     "cell_type": "code",
     "collapsed": false,
     "input": [
      "# Filter Length\n",
      "N = 31\n",
      "\n",
      "# Parameters\n",
      "L = 2**9        # Grid size\n",
      "w = (pi/L)*(np.arange(L+1)).T  # Frequency grid\n",
      "\n",
      "D = abs(np.fft.fft(mic1,1024+1))\n",
      "D = D[0:L+1]\n",
      "#D = w < wo\n",
      "\n",
      "# Weight Function\n",
      "W = np.eye(L+1)\n",
      "\n",
      "# Create filter using \"freq_lstsq\"\n",
      "h = freq_lstsq(N, L, D, W)"
     ],
     "language": "python",
     "metadata": {},
     "outputs": [],
     "prompt_number": 53
    },
    {
     "cell_type": "code",
     "collapsed": false,
     "input": [
      "print D.shape"
     ],
     "language": "python",
     "metadata": {},
     "outputs": [
      {
       "output_type": "stream",
       "stream": "stdout",
       "text": [
        "(513,)\n"
       ]
      }
     ],
     "prompt_number": 54
    },
    {
     "cell_type": "code",
     "collapsed": false,
     "input": [
      "print h"
     ],
     "language": "python",
     "metadata": {},
     "outputs": [
      {
       "output_type": "stream",
       "stream": "stdout",
       "text": [
        "[[ 0.09058996]\n",
        " [ 0.10838349]\n",
        " [ 0.12615434]\n",
        " [ 0.14690732]\n",
        " [ 0.17450146]\n",
        " [ 0.20086977]\n",
        " [ 0.21948639]\n",
        " [ 0.23652301]\n",
        " [ 0.25891689]\n",
        " [ 0.28803763]\n",
        " [ 0.33210798]\n",
        " [ 0.38595562]\n",
        " [ 0.42256528]\n",
        " [ 0.46206536]\n",
        " [ 0.55189651]\n",
        " [ 0.62670286]\n",
        " [ 0.55189651]\n",
        " [ 0.46206536]\n",
        " [ 0.42256528]\n",
        " [ 0.38595562]\n",
        " [ 0.33210798]\n",
        " [ 0.28803763]\n",
        " [ 0.25891689]\n",
        " [ 0.23652301]\n",
        " [ 0.21948639]\n",
        " [ 0.20086977]\n",
        " [ 0.17450146]\n",
        " [ 0.14690732]\n",
        " [ 0.12615434]\n",
        " [ 0.10838349]\n",
        " [ 0.09058996]]\n"
       ]
      }
     ],
     "prompt_number": 55
    },
    {
     "cell_type": "code",
     "collapsed": false,
     "input": [
      "plot(h)"
     ],
     "language": "python",
     "metadata": {},
     "outputs": [
      {
       "metadata": {},
       "output_type": "pyout",
       "prompt_number": 56,
       "text": [
        "[<matplotlib.lines.Line2D at 0x113081ad0>]"
       ]
      },
      {
       "metadata": {},
       "output_type": "display_data",
       "png": "[encoded data removed]",
       "text": [
        "<matplotlib.figure.Figure at 0x112e4a0d0>"
       ]
      }
     ],
     "prompt_number": 56
    },
    {
     "cell_type": "code",
     "collapsed": false,
     "input": [
      "H = np.fft.fft(h.T,1024)\n",
      "Habs = abs(H)"
     ],
     "language": "python",
     "metadata": {},
     "outputs": [],
     "prompt_number": 57
    },
    {
     "cell_type": "code",
     "collapsed": false,
     "input": [
      "print Habs.shape"
     ],
     "language": "python",
     "metadata": {},
     "outputs": [
      {
       "output_type": "stream",
       "stream": "stdout",
       "text": [
        "(1, 1024)\n"
       ]
      }
     ],
     "prompt_number": 58
    },
    {
     "cell_type": "code",
     "collapsed": false,
     "input": [
      "plot(Habs.T)"
     ],
     "language": "python",
     "metadata": {},
     "outputs": [
      {
       "metadata": {},
       "output_type": "pyout",
       "prompt_number": 59,
       "text": [
        "[<matplotlib.lines.Line2D at 0x113197610>]"
       ]
      },
      {
       "metadata": {},
       "output_type": "display_data",
       "png": "[encoded data removed]",
       "text": [
        "<matplotlib.figure.Figure at 0x112f87350>"
       ]
      }
     ],
     "prompt_number": 59
    },
    {
     "cell_type": "code",
     "collapsed": false,
     "input": [
      "D2 = np.fft.fft(mic1,1024)\n",
      "D2abs = abs(D2)\n",
      "print D2abs.shape"
     ],
     "language": "python",
     "metadata": {},
     "outputs": [
      {
       "output_type": "stream",
       "stream": "stdout",
       "text": [
        "(1024,)\n"
       ]
      }
     ],
     "prompt_number": 60
    },
    {
     "cell_type": "code",
     "collapsed": false,
     "input": [
      "plot(D2abs)"
     ],
     "language": "python",
     "metadata": {},
     "outputs": [
      {
       "metadata": {},
       "output_type": "pyout",
       "prompt_number": 61,
       "text": [
        "[<matplotlib.lines.Line2D at 0x1132abad0>]"
       ]
      },
      {
       "metadata": {},
       "output_type": "display_data",
       "png": "[encoded data removed]",
       "text": [
        "<matplotlib.figure.Figure at 0x1131df790>"
       ]
      }
     ],
     "prompt_number": 61
    },
    {
     "cell_type": "code",
     "collapsed": false,
     "input": [
      "plot(D2abs)\n",
      "plot(3*Habs.T)"
     ],
     "language": "python",
     "metadata": {},
     "outputs": [
      {
       "metadata": {},
       "output_type": "pyout",
       "prompt_number": 62,
       "text": [
        "[<matplotlib.lines.Line2D at 0x11308e710>]"
       ]
      },
      {
       "metadata": {},
       "output_type": "display_data",
       "png": "[encoded data removed]",
       "text": [
        "<matplotlib.figure.Figure at 0x11308e890>"
       ]
      }
     ],
     "prompt_number": 62
    },
    {
     "cell_type": "code",
     "collapsed": false,
     "input": [],
     "language": "python",
     "metadata": {},
     "outputs": []
    }
   ],
   "metadata": {}
  }
 ]
}