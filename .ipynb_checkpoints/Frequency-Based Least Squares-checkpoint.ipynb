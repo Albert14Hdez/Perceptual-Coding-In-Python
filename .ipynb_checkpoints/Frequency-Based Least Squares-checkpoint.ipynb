{
 "metadata": {
  "name": "",
  "signature": "sha256:11f208fc6ccb387730c4dc66535535a059a75240b80ffeb26533834464cce35e"
 },
 "nbformat": 3,
 "nbformat_minor": 0,
 "worksheets": [
  {
   "cells": [
    {
     "cell_type": "markdown",
     "metadata": {},
     "source": [
      "#Frequency-Based Least Squares\n",
      "* Optimal Square Error Least Squares Filter Design\n",
      "* Matthew Cohen - March 19, 2015"
     ]
    },
    {
     "cell_type": "code",
     "collapsed": false,
     "input": [],
     "language": "python",
     "metadata": {},
     "outputs": [],
     "prompt_number": 0
    },
    {
     "cell_type": "markdown",
     "metadata": {},
     "source": [
      "###Method 1: General Discrete Square Error\n",
      "* No analytic expressions for the inverse DTFT of D(w) and W(w) are available"
     ]
    },
    {
     "cell_type": "code",
     "collapsed": false,
     "input": [
      "import numpy as np"
     ],
     "language": "python",
     "metadata": {},
     "outputs": [],
     "prompt_number": 1
    },
    {
     "cell_type": "code",
     "collapsed": false,
     "input": [],
     "language": "python",
     "metadata": {},
     "outputs": [],
     "prompt_number": 93
    },
    {
     "cell_type": "code",
     "collapsed": false,
     "input": [
      "# Discrete Square Error - Matrix Method\n",
      "\n",
      "# Filter Length\n",
      "N = 31\n",
      "M = (N-1)/2\n",
      "\n",
      "# Parameters\n",
      "wo = 0.30*pi   # Cut-off freq\n",
      "wp = 0.26*pi   # Pass-band edge\n",
      "ws = 0.34*pi   # Stop-band edge\n",
      "K = 10         # Stop-band weight\n",
      "L = 2**9        # Grid size\n",
      "w = (pi/L)*(np.arange(L+1)).T  # Frequency grid\n",
      "D = w < wo\n",
      "\n",
      "# Weight Function\n",
      "W = np.diag(np.sqrt((w <= wp) + K*(w >= ws)))\n",
      "\n",
      "WD = np.dot(W,D)\n",
      "WD_rs = WD.reshape(WD.shape[0],1)\n",
      "\n",
      "# Rectangular C matrix\n",
      "w_rs = w.reshape(w.shape[0],1)\n",
      "M_rs = np.arange(M+1)\n",
      "M_rs = M_rs.reshape(M_rs.shape[0],1)\n",
      "C = cos(np.dot(w_rs,M_rs.T))\n",
      "\n",
      "# Solve linear system to get a(n)\n",
      "a = np.linalg.lstsq(np.dot(W,C), WD_rs)\n",
      "a = a[0]\n",
      "\n",
      "# Form impulse response h(n)\n",
      "h1 = a[M:0:-1]\n",
      "h2 = 2*a[0]\n",
      "h2 = h2.reshape(h2.shape[0],1)\n",
      "h3 = a[1:M+1]\n",
      "\n",
      "h12 = np.concatenate((h1,h2))\n",
      "\n",
      "h = np.concatenate((h12,h3))/2\n",
      "\n",
      "plot(h)"
     ],
     "language": "python",
     "metadata": {},
     "outputs": [
      {
       "metadata": {},
       "output_type": "pyout",
       "prompt_number": 33,
       "text": [
        "[<matplotlib.lines.Line2D at 0x10eabad90>]"
       ]
      },
      {
       "metadata": {},
       "output_type": "display_data",
       "png": "[encoded data removed]",
       "text": [
        "<matplotlib.figure.Figure at 0x10ebc2950>"
       ]
      }
     ],
     "prompt_number": 33
    },
    {
     "cell_type": "code",
     "collapsed": false,
     "input": [
      "print h.shape"
     ],
     "language": "python",
     "metadata": {},
     "outputs": [
      {
       "output_type": "stream",
       "stream": "stdout",
       "text": [
        "(31, 1)\n"
       ]
      }
     ],
     "prompt_number": 34
    },
    {
     "cell_type": "code",
     "collapsed": false,
     "input": [
      "print h"
     ],
     "language": "python",
     "metadata": {},
     "outputs": [
      {
       "output_type": "stream",
       "stream": "stdout",
       "text": [
        "[[ 0.0032874 ]\n",
        " [-0.00112475]\n",
        " [-0.0096287 ]\n",
        " [-0.01539184]\n",
        " [-0.01047298]\n",
        " [ 0.00628718]\n",
        " [ 0.02457685]\n",
        " [ 0.02764336]\n",
        " [ 0.005488  ]\n",
        " [-0.03261346]\n",
        " [-0.05805181]\n",
        " [-0.03859964]\n",
        " [ 0.0382778 ]\n",
        " [ 0.15135485]\n",
        " [ 0.25252988]\n",
        " [ 0.29307405]\n",
        " [ 0.25252988]\n",
        " [ 0.15135485]\n",
        " [ 0.0382778 ]\n",
        " [-0.03859964]\n",
        " [-0.05805181]\n",
        " [-0.03261346]\n",
        " [ 0.005488  ]\n",
        " [ 0.02764336]\n",
        " [ 0.02457685]\n",
        " [ 0.00628718]\n",
        " [-0.01047298]\n",
        " [-0.01539184]\n",
        " [-0.0096287 ]\n",
        " [-0.00112475]\n",
        " [ 0.0032874 ]]\n"
       ]
      }
     ],
     "prompt_number": 35
    },
    {
     "cell_type": "code",
     "collapsed": false,
     "input": [],
     "language": "python",
     "metadata": {},
     "outputs": [],
     "prompt_number": 31
    },
    {
     "cell_type": "code",
     "collapsed": false,
     "input": [],
     "language": "python",
     "metadata": {},
     "outputs": []
    },
    {
     "cell_type": "code",
     "collapsed": false,
     "input": [
      "def freq_lstsq(N, L, D, W):\n",
      "    \n",
      "    # Filter Length\n",
      "    M = (N-1)/2\n",
      "\n",
      "    w = (pi/L)*(np.arange(L+1)).T  # Frequency grid\n",
      "\n",
      "    WD = np.dot(W,D)\n",
      "    WD_rs = WD.reshape(WD.shape[0],1)\n",
      "\n",
      "    # Rectangular C matrix\n",
      "    w_rs = w.reshape(w.shape[0],1)\n",
      "    M_rs = np.arange(M+1)\n",
      "    M_rs = M_rs.reshape(M_rs.shape[0],1)\n",
      "    C = cos(np.dot(w_rs,M_rs.T))\n",
      "\n",
      "    # Solve linear system to get a(n)\n",
      "    a = np.linalg.lstsq(np.dot(W,C), WD_rs)\n",
      "    a = a[0]\n",
      "\n",
      "    # Form impulse response h(n)\n",
      "    h1 = a[M:0:-1]\n",
      "    h2 = 2*a[0]\n",
      "    h2 = h2.reshape(h2.shape[0],1)\n",
      "    h3 = a[2:M+1]\n",
      "\n",
      "    h12 = np.concatenate((h1,h2))\n",
      "    \n",
      "    h = np.concatenate((h12,h3))/2\n",
      "    \n",
      "    return h"
     ],
     "language": "python",
     "metadata": {},
     "outputs": [],
     "prompt_number": 4
    },
    {
     "cell_type": "code",
     "collapsed": false,
     "input": [],
     "language": "python",
     "metadata": {},
     "outputs": []
    },
    {
     "cell_type": "code",
     "collapsed": false,
     "input": [
      "# Filter Length\n",
      "N = 31\n",
      "\n",
      "# Parameters\n",
      "wo = 0.30*pi   # Cut-off freq\n",
      "wp = 0.26*pi   # Pass-band edge\n",
      "ws = 0.34*pi   # Stop-band edge\n",
      "K = 10         # Stop-band weight\n",
      "L = 2**9        # Grid size\n",
      "w = (pi/L)*(np.arange(L+1)).T  # Frequency grid\n",
      "D = w < wo\n",
      "\n",
      "# Weight Function\n",
      "W = np.diag(np.sqrt((w <= wp) + K*(w >= ws)))\n",
      "\n",
      "# Create filter using \"freq_lstsq\"\n",
      "h = freq_lstsq(N, L, D, W)"
     ],
     "language": "python",
     "metadata": {},
     "outputs": [],
     "prompt_number": 5
    },
    {
     "cell_type": "code",
     "collapsed": false,
     "input": [
      "plot(h)"
     ],
     "language": "python",
     "metadata": {},
     "outputs": [
      {
       "metadata": {},
       "output_type": "pyout",
       "prompt_number": 6,
       "text": [
        "[<matplotlib.lines.Line2D at 0x10e90b890>]"
       ]
      },
      {
       "metadata": {},
       "output_type": "display_data",
       "png": "[encoded data removed]",
       "text": [
        "<matplotlib.figure.Figure at 0x10e5bc390>"
       ]
      }
     ],
     "prompt_number": 6
    },
    {
     "cell_type": "code",
     "collapsed": false,
     "input": [
      "print h"
     ],
     "language": "python",
     "metadata": {},
     "outputs": [
      {
       "output_type": "stream",
       "stream": "stdout",
       "text": [
        "[[ 0.0032874 ]\n",
        " [-0.00112475]\n",
        " [-0.0096287 ]\n",
        " [-0.01539184]\n",
        " [-0.01047298]\n",
        " [ 0.00628718]\n",
        " [ 0.02457685]\n",
        " [ 0.02764336]\n",
        " [ 0.005488  ]\n",
        " [-0.03261346]\n",
        " [-0.05805181]\n",
        " [-0.03859964]\n",
        " [ 0.0382778 ]\n",
        " [ 0.15135485]\n",
        " [ 0.25252988]\n",
        " [ 0.29307405]\n",
        " [ 0.15135485]\n",
        " [ 0.0382778 ]\n",
        " [-0.03859964]\n",
        " [-0.05805181]\n",
        " [-0.03261346]\n",
        " [ 0.005488  ]\n",
        " [ 0.02764336]\n",
        " [ 0.02457685]\n",
        " [ 0.00628718]\n",
        " [-0.01047298]\n",
        " [-0.01539184]\n",
        " [-0.0096287 ]\n",
        " [-0.00112475]\n",
        " [ 0.0032874 ]]\n"
       ]
      }
     ],
     "prompt_number": 7
    },
    {
     "cell_type": "code",
     "collapsed": false,
     "input": [
      "# Look at the Fourier Transform of h(n)\n",
      "H = np.fft.fft(h.T,1024)"
     ],
     "language": "python",
     "metadata": {},
     "outputs": [],
     "prompt_number": 129
    },
    {
     "cell_type": "code",
     "collapsed": false,
     "input": [
      "print H.shape"
     ],
     "language": "python",
     "metadata": {},
     "outputs": [
      {
       "output_type": "stream",
       "stream": "stdout",
       "text": [
        "(1, 1024)\n"
       ]
      }
     ],
     "prompt_number": 130
    },
    {
     "cell_type": "code",
     "collapsed": false,
     "input": [
      "print abs(H)"
     ],
     "language": "python",
     "metadata": {},
     "outputs": [
      {
       "output_type": "stream",
       "stream": "stdout",
       "text": [
        "[[ 1.45533689  1.45549238  1.45595797 ...,  1.4567311   1.45595797\n",
        "   1.45549238]]\n"
       ]
      }
     ],
     "prompt_number": 131
    },
    {
     "cell_type": "code",
     "collapsed": false,
     "input": [
      "Habs = abs(H)\n",
      "\n",
      "plot(H.T)"
     ],
     "language": "python",
     "metadata": {},
     "outputs": [
      {
       "metadata": {},
       "output_type": "pyout",
       "prompt_number": 132,
       "text": [
        "[<matplotlib.lines.Line2D at 0x10ba76f90>]"
       ]
      },
      {
       "metadata": {},
       "output_type": "display_data",
       "png": "[encoded data removed]",
       "text": [
        "<matplotlib.figure.Figure at 0x10b8bbf10>"
       ]
      }
     ],
     "prompt_number": 132
    },
    {
     "cell_type": "code",
     "collapsed": false,
     "input": [],
     "language": "python",
     "metadata": {},
     "outputs": []
    }
   ],
   "metadata": {}
  }
 ]
}