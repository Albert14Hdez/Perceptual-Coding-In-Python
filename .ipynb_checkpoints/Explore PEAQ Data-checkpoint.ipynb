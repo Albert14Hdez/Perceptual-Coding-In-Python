{
 "metadata": {
  "name": "",
  "signature": "sha256:3d4cef16eb290af7296adfe277d5036b46141e395a591f24160e25dac189dc6b"
 },
 "nbformat": 3,
 "nbformat_minor": 0,
 "worksheets": [
  {
   "cells": [
    {
     "cell_type": "markdown",
     "metadata": {},
     "source": [
      "##Explore PEAQ Data\n",
      "\n",
      "Stephen Welch, Intuitive Pickups, January 30, 2015"
     ]
    },
    {
     "cell_type": "markdown",
     "metadata": {},
     "source": [
      "Import data from MATLAB PEAQ"
     ]
    },
    {
     "cell_type": "code",
     "collapsed": false,
     "input": [
      "import scipy.io\n",
      "mat = scipy.io.loadmat('data/PEAQ_data/PEAQ_Output.mat')"
     ],
     "language": "python",
     "metadata": {},
     "outputs": [],
     "prompt_number": 1
    },
    {
     "cell_type": "code",
     "collapsed": false,
     "input": [
      "mat.keys()"
     ],
     "language": "python",
     "metadata": {},
     "outputs": [
      {
       "metadata": {},
       "output_type": "pyout",
       "prompt_number": 3,
       "text": [
        "['PEAQ_output', '__version__', '__header__', '__globals__']"
       ]
      }
     ],
     "prompt_number": 3
    },
    {
     "cell_type": "code",
     "collapsed": false,
     "input": [
      "P = mat['PEAQ_output']"
     ],
     "language": "python",
     "metadata": {},
     "outputs": [],
     "prompt_number": 7
    },
    {
     "cell_type": "code",
     "collapsed": false,
     "input": [
      "P.shape"
     ],
     "language": "python",
     "metadata": {},
     "outputs": [
      {
       "metadata": {},
       "output_type": "pyout",
       "prompt_number": 13,
       "text": [
        "(1, 1)"
       ]
      }
     ],
     "prompt_number": 13
    },
    {
     "cell_type": "code",
     "collapsed": false,
     "input": [],
     "language": "python",
     "metadata": {},
     "outputs": [],
     "prompt_number": 25
    },
    {
     "cell_type": "code",
     "collapsed": false,
     "input": [
      "len(P[0][0])"
     ],
     "language": "python",
     "metadata": {},
     "outputs": [
      {
       "metadata": {},
       "output_type": "pyout",
       "prompt_number": 33,
       "text": [
        "32"
       ]
      }
     ],
     "prompt_number": 33
    },
    {
     "cell_type": "code",
     "collapsed": false,
     "input": [
      "data = P[0][0]"
     ],
     "language": "python",
     "metadata": {},
     "outputs": [],
     "prompt_number": 34
    },
    {
     "cell_type": "code",
     "collapsed": false,
     "input": [
      "data[1]"
     ],
     "language": "python",
     "metadata": {},
     "outputs": [
      {
       "metadata": {},
       "output_type": "pyout",
       "prompt_number": 41,
       "text": [
        "array([[-3.15821465]])"
       ]
      }
     ],
     "prompt_number": 41
    },
    {
     "cell_type": "code",
     "collapsed": false,
     "input": [],
     "language": "python",
     "metadata": {},
     "outputs": []
    },
    {
     "cell_type": "code",
     "collapsed": false,
     "input": [],
     "language": "python",
     "metadata": {},
     "outputs": []
    },
    {
     "cell_type": "code",
     "collapsed": false,
     "input": [
      "P[0].dtype"
     ],
     "language": "python",
     "metadata": {},
     "outputs": [
      {
       "metadata": {},
       "output_type": "pyout",
       "prompt_number": 40,
       "text": [
        "dtype([('ODG_11', 'O'), ('ODG_12', 'O'), ('ODG_13', 'O'), ('ODG_1p', 'O'), ('ODG_21', 'O'), ('ODG_22', 'O'), ('ODG_23', 'O'), ('ODG_2p', 'O'), ('ODG_31', 'O'), ('ODG_32', 'O'), ('ODG_33', 'O'), ('ODG_3p', 'O'), ('ODG_p1', 'O'), ('ODG_p2', 'O'), ('ODG_p3', 'O'), ('ODG_pp', 'O'), ('MOV_11', 'O'), ('MOV_12', 'O'), ('MOV_13', 'O'), ('MOV_1p', 'O'), ('MOV_21', 'O'), ('MOV_22', 'O'), ('MOV_23', 'O'), ('MOV_2p', 'O'), ('MOV_31', 'O'), ('MOV_32', 'O'), ('MOV_33', 'O'), ('MOV_3p', 'O'), ('MOV_p1', 'O'), ('MOV_p2', 'O'), ('MOV_p3', 'O'), ('MOV_pp', 'O')])"
       ]
      }
     ],
     "prompt_number": 40
    },
    {
     "cell_type": "code",
     "collapsed": false,
     "input": [],
     "language": "python",
     "metadata": {},
     "outputs": []
    }
   ],
   "metadata": {}
  }
 ]
}