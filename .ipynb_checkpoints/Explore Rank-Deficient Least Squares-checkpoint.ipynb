{
 "metadata": {
  "name": "",
  "signature": "sha256:4464ad20f6a464a3786610207a45c54eb75339822487fd26d04bc0ce4bd64dda"
 },
 "nbformat": 3,
 "nbformat_minor": 0,
 "worksheets": []
}