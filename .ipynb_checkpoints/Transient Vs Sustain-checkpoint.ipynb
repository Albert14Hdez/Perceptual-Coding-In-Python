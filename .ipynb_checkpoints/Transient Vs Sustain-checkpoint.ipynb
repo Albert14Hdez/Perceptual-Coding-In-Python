{
 "metadata": {
  "name": "",
  "signature": "sha256:4b9e1fadb29c1fef6d6a54bb10e963c4a55e5fba7e6d066cb5838ed8ec4a35b5"
 },
 "nbformat": 3,
 "nbformat_minor": 0,
 "worksheets": [
  {
   "cells": [
    {
     "cell_type": "markdown",
     "metadata": {},
     "source": [
      "#Transient Vs. Sustain\n",
      "\n",
      "Stephen Welch, \n",
      "\n",
      "One of the reasons working with music signals can be challenging is the inherit non-stationarity of musical sounds, especially acoustic instruments. A high level example of this non-stationarity is the inconsistent system behavior between transients and sustains. \n",
      "\n",
      "Here we'll make an effort seperate transients and sustains using wavelet decomposition. In practice, the statistical nonstationarity breaks down over more than just transient/sustain behavior, this represents a first attempt at reducing non-stationarity using a transient/sustain paradigm."
     ]
    },
    {
     "cell_type": "markdown",
     "metadata": {},
     "source": [
      "##Import Data"
     ]
    },
    {
     "cell_type": "code",
     "collapsed": false,
     "input": [
      "import cPickle as pickle\n",
      "\n",
      "pickleName = 'taylorJan23'\n",
      "\n",
      "pickleFileName = \"pickles/\" + pickleName + \".pickle\"\n",
      "pickleFile = open(pickleFileName, 'rb')\n",
      "alignedSignals = pickle.load(pickleFile)\n",
      "pickleFile.close()"
     ],
     "language": "python",
     "metadata": {},
     "outputs": [],
     "prompt_number": 3
    },
    {
     "cell_type": "code",
     "collapsed": false,
     "input": [
      "alignedSignals"
     ],
     "language": "python",
     "metadata": {},
     "outputs": [
      {
       "metadata": {},
       "output_type": "pyout",
       "prompt_number": 4,
       "text": [
        "{'metaData': {'Fs': 48000,\n",
        "  'mic1offset': 40,\n",
        "  'mic2offset': 0,\n",
        "  'mic3offset': 40},\n",
        " 'mic1': array([-0.00898779, -0.010551  , -0.01322809, ...,  0.39582663,\n",
        "         0.40229331,  0.39258727]),\n",
        " 'mic2': array([-0.06791714, -0.06387673, -0.05911492, ...,  0.01812996,\n",
        "         0.03878508,  0.05560138]),\n",
        " 'mic3': array([ 0.00679923,  0.01275867,  0.01701346, ...,  0.51843548,\n",
        "         0.52594374,  0.49463073]),\n",
        " 'piezo': array([-0.06028231, -0.05323667, -0.04699817, ..., -0.17854216,\n",
        "        -0.17879651, -0.17856007])}"
       ]
      }
     ],
     "prompt_number": 4
    },
    {
     "cell_type": "code",
     "collapsed": false,
     "input": [],
     "language": "python",
     "metadata": {},
     "outputs": []
    }
   ],
   "metadata": {}
  }
 ]
}