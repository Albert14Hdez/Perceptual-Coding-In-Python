{
 "metadata": {
  "name": "",
  "signature": "sha256:8d7ec9e3093864283df1c1b29ac1b243deacf08e397338d6c3a309eac51e2f35"
 },
 "nbformat": 3,
 "nbformat_minor": 0,
 "worksheets": [
  {
   "cells": [
    {
     "cell_type": "markdown",
     "metadata": {},
     "source": [
      "#Bark Domain Filter Design\n",
      "* Matthew Cohen - April 9, 2015"
     ]
    },
    {
     "cell_type": "markdown",
     "metadata": {},
     "source": [
      "A seemingly crucial step in the PEAQ analysis process is the conversion to the Bark domain, a psychoacoustical domain that aids the process of perceptually comparing signals. A step that could prove to be very helpful for us is to be able to design filters in the Bark domain that minimize the integral error between a reference signal and another signal processed by this filter. In our case, this would involve a microphone signal and a to-be-filtered piezo signal.\n",
      "\n",
      "Given that we seem to have been successful in implementing a forward and backward Bark transform, it seems reasonable that we might be able to accomplish the following tasks:\n",
      "\n",
      "* Apply the forward Bark transform to the DFT magnitudes of the mic and piezo signal to get their Bark domain representations.\n",
      "* Use the frequency-domain least squares approach (*Optimal Square Error Least Squares Filter Design*) to design a filter $F(\\omega_b)$ such that $F(\\omega_b)P(\\omega_b) \\approx M(\\omega_b)$, where $P(\\omega_b), M(\\omega_b)$ are the Bark domain representations of the piezo signal and microphone signal, respectively, and $\\omega_b$ is the Bark bin.\n",
      "    * This approximation process can be restated as finding the filter $F(\\omega_b)$ such that $F(\\omega_b) \\approx \\frac{M(\\omega_b)}{P(\\omega_b)}$.\n",
      "* Apply the backward Bark transform to the designed filter's Bark domain \"magnitude\" response to get it back to the Fourier (DFT) frequency domain.\n",
      "* Attempt to map this DFT to the time domain to find the time-domain filter sequence. This will likely require some testing and experimentation."
     ]
    },
    {
     "cell_type": "markdown",
     "metadata": {},
     "source": [
      "###Add the BarkClass folder to the system's path, import the Bark class, and instantiate a Bark object."
     ]
    },
    {
     "cell_type": "code",
     "collapsed": false,
     "input": [
      "import sys\n",
      "sys.path.append('BarkClass')"
     ],
     "language": "python",
     "metadata": {},
     "outputs": [],
     "prompt_number": 2
    },
    {
     "cell_type": "code",
     "collapsed": false,
     "input": [
      "from Bark import Bark"
     ],
     "language": "python",
     "metadata": {},
     "outputs": [],
     "prompt_number": 18
    },
    {
     "cell_type": "code",
     "collapsed": false,
     "input": [
      "nfft=1024 \n",
      "fs=48000\n",
      "nfilts=109\n",
      "version=\"rasta\"\n",
      "B = Bark(nfft, fs, nfilts, version)"
     ],
     "language": "python",
     "metadata": {},
     "outputs": [
      {
       "output_type": "stream",
       "stream": "stdout",
       "text": [
        "The forward and backward Bark transform matrices have been precomputed - ready to go!\n",
        "Bark Domain Transform Version:  RASTA\n",
        "The transform is for  109  filters, a sampling rate of  48000  and FFT size of  1024\n"
       ]
      }
     ],
     "prompt_number": 19
    },
    {
     "cell_type": "markdown",
     "metadata": {},
     "source": [
      "###Import audio"
     ]
    },
    {
     "cell_type": "code",
     "collapsed": false,
     "input": [
      "from scikits.audiolab import wavread\n",
      "\n",
      "mic1, Fs, enc = wavread('exports/timeAligned_mic1_10sec.wav')\n",
      "mic2, Fs, enc = wavread('exports/timeAligned_mic2_10sec.wav')\n",
      "mic3, Fs, enc = wavread('exports/timeAligned_mic3_10sec.wav')\n",
      "piezo, Fs, enc = wavread('exports/timeAligned_piezo_10sec.wav')"
     ],
     "language": "python",
     "metadata": {},
     "outputs": [],
     "prompt_number": 11
    },
    {
     "cell_type": "markdown",
     "metadata": {},
     "source": [
      "###Frequency-Domain Least Squares Filter Design Implementation"
     ]
    },
    {
     "cell_type": "code",
     "collapsed": false,
     "input": [
      "def freq_lstsq(N, L, D, W):\n",
      "    \n",
      "    # Filter Length\n",
      "    M = (N-1)/2\n",
      "\n",
      "    w = (pi/L)*(np.arange(L+1)).T  # Frequency grid\n",
      "\n",
      "    # Modify WD for this Bark domain usage\n",
      "    WD = np.dot(W,np.append(D,[0]))\n",
      "    WD_rs = WD.reshape(WD.shape[0],1)\n",
      "\n",
      "    # Rectangular C matrix\n",
      "    w_rs = w.reshape(w.shape[0],1)\n",
      "    M_rs = np.arange(M+1)\n",
      "    M_rs = M_rs.reshape(M_rs.shape[0],1)\n",
      "    C = cos(np.dot(w_rs,M_rs.T))\n",
      "    \n",
      "    # Solve linear system to get a(n)\n",
      "    a = np.linalg.lstsq(np.dot(W,C), WD_rs)\n",
      "    a = a[0]\n",
      "\n",
      "    # Form impulse response h(n)\n",
      "    h1 = a[M:0:-1]\n",
      "    h2 = 2*a[0]\n",
      "    h2 = h2.reshape(h2.shape[0],1)\n",
      "    h3 = a[1:M+1]\n",
      "\n",
      "    h12 = np.concatenate((h1,h2))\n",
      "    \n",
      "    h = np.concatenate((h12,h3))/2\n",
      "    \n",
      "    return a, h"
     ],
     "language": "python",
     "metadata": {},
     "outputs": [],
     "prompt_number": 90
    },
    {
     "cell_type": "markdown",
     "metadata": {},
     "source": [
      "###Compute mic and piezo DFTs"
     ]
    },
    {
     "cell_type": "code",
     "collapsed": false,
     "input": [
      "# Parameters\n",
      "L_f = 2048  # Frame length\n",
      "L_s = len(mic1)  # Signal length\n",
      "L_dft = 1024  # DFT length\n",
      "\n",
      "N = 128  # Filter Length\n",
      "\n",
      "L_g = 2**9  # Grid size\n",
      "w = (pi/L)*(np.arange(L+1)).T  # Frequency grid\n",
      "\n",
      "# Piezo signal DFT\n",
      "#P = np.fft.fft(piezo[0:L_f],L_dft+1)\n",
      "P = np.fft.fft(piezo[0:L_f],L_dft)\n",
      "Pabs = abs(P)\n",
      "Pabs = Pabs[0:L_dft]\n",
      "#P_sub = Pabs[0:L+1]\n",
      "P_sub = Pabs[0:L_g]\n",
      "\n",
      "# Mic signal DFT\n",
      "#M = np.fft.fft(mic1[0:L_f],L_dft+1)\n",
      "M = np.fft.fft(mic1[0:L_f],L_dft)\n",
      "Mabs = abs(M)\n",
      "Mabs = Mabs[0:L_dft]\n",
      "#M_sub = Mabs[0:L+1]\n",
      "M_sub = Mabs[0:L_g]"
     ],
     "language": "python",
     "metadata": {},
     "outputs": [],
     "prompt_number": 47
    },
    {
     "cell_type": "code",
     "collapsed": false,
     "input": [
      "plot(Mabs)\n",
      "plot(Pabs)"
     ],
     "language": "python",
     "metadata": {},
     "outputs": [
      {
       "metadata": {},
       "output_type": "pyout",
       "prompt_number": 48,
       "text": [
        "[<matplotlib.lines.Line2D at 0x11305c650>]"
       ]
      },
      {
       "metadata": {},
       "output_type": "display_data",
       "png": "[encoded data removed]",
       "text": [
        "<matplotlib.figure.Figure at 0x1131a2c50>"
       ]
      }
     ],
     "prompt_number": 48
    },
    {
     "cell_type": "markdown",
     "metadata": {},
     "source": [
      "###Transform the DFTs to the Bark domain"
     ]
    },
    {
     "cell_type": "code",
     "collapsed": false,
     "input": [
      "M_bark = B.forward(M_sub.T)\n",
      "P_bark = B.forward(P_sub.T)"
     ],
     "language": "python",
     "metadata": {},
     "outputs": [],
     "prompt_number": 49
    },
    {
     "cell_type": "code",
     "collapsed": false,
     "input": [
      "fig = plt.figure(0, (8,8))\n",
      "\n",
      "plot(M_bark,label=\"Microphone\")\n",
      "plot(P_bark,label=\"Piezo\")\n",
      "title(\"Bark Domain Magnitude Plot\")\n",
      "xlabel(\"Filter Bins\")\n",
      "ylabel(\"Magnitude (Barks)\")\n",
      "legend()"
     ],
     "language": "python",
     "metadata": {},
     "outputs": [
      {
       "metadata": {},
       "output_type": "pyout",
       "prompt_number": 50,
       "text": [
        "<matplotlib.legend.Legend at 0x113995710>"
       ]
      },
      {
       "metadata": {},
       "output_type": "display_data",
       "png": "[encoded data removed]",
       "text": [
        "<matplotlib.figure.Figure at 0x11380c6d0>"
       ]
      }
     ],
     "prompt_number": 50
    },
    {
     "cell_type": "markdown",
     "metadata": {},
     "source": [
      "###Approximate the Bark domain \"transfer function\" between the microphone and piezo signals"
     ]
    },
    {
     "cell_type": "code",
     "collapsed": false,
     "input": [
      "F_bark = M_bark/P_bark"
     ],
     "language": "python",
     "metadata": {},
     "outputs": [],
     "prompt_number": 51
    },
    {
     "cell_type": "code",
     "collapsed": false,
     "input": [
      "plot(F_bark)"
     ],
     "language": "python",
     "metadata": {},
     "outputs": [
      {
       "metadata": {},
       "output_type": "pyout",
       "prompt_number": 52,
       "text": [
        "[<matplotlib.lines.Line2D at 0x113b40290>]"
       ]
      },
      {
       "metadata": {},
       "output_type": "display_data",
       "png": "[encoded data removed]",
       "text": [
        "<matplotlib.figure.Figure at 0x11277d250>"
       ]
      }
     ],
     "prompt_number": 52
    },
    {
     "cell_type": "markdown",
     "metadata": {},
     "source": [
      "###Design a Bark domain filter using the Frequency-Domain Least Squares approach"
     ]
    },
    {
     "cell_type": "code",
     "collapsed": false,
     "input": [
      "# Number of \"frequency samples\" here is the number of Bark filter bins\n",
      "L_B = B.nfilts\n",
      "\n",
      "# Weight function\n",
      "W = np.eye(L_B+1)"
     ],
     "language": "python",
     "metadata": {},
     "outputs": [],
     "prompt_number": 91
    },
    {
     "cell_type": "code",
     "collapsed": false,
     "input": [
      "# Design filter using \"freq_lstsq\" function\n",
      "a_bark, h_bark = freq_lstsq(N, L_B, F_bark, W)"
     ],
     "language": "python",
     "metadata": {},
     "outputs": [],
     "prompt_number": 92
    },
    {
     "cell_type": "code",
     "collapsed": false,
     "input": [
      "plot(a_bark)"
     ],
     "language": "python",
     "metadata": {},
     "outputs": [],
     "prompt_number": 89
    },
    {
     "cell_type": "code",
     "collapsed": false,
     "input": [],
     "language": "python",
     "metadata": {},
     "outputs": [],
     "prompt_number": 89
    },
    {
     "cell_type": "code",
     "collapsed": false,
     "input": [],
     "language": "python",
     "metadata": {},
     "outputs": [],
     "prompt_number": 89
    },
    {
     "cell_type": "code",
     "collapsed": false,
     "input": [],
     "language": "python",
     "metadata": {},
     "outputs": [],
     "prompt_number": 89
    },
    {
     "cell_type": "code",
     "collapsed": false,
     "input": [],
     "language": "python",
     "metadata": {},
     "outputs": [],
     "prompt_number": 89
    },
    {
     "cell_type": "code",
     "collapsed": false,
     "input": [],
     "language": "python",
     "metadata": {},
     "outputs": [],
     "prompt_number": 89
    },
    {
     "cell_type": "code",
     "collapsed": false,
     "input": [],
     "language": "python",
     "metadata": {},
     "outputs": [],
     "prompt_number": 86
    },
    {
     "cell_type": "code",
     "collapsed": false,
     "input": [],
     "language": "python",
     "metadata": {},
     "outputs": []
    }
   ],
   "metadata": {}
  }
 ]
}