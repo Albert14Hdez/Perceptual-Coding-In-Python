{
 "metadata": {
  "name": "",
  "signature": "sha256:ac2e9bac7f89ede53a3ba14890e400548babdd1711f92f3ccfdb30fcc847e552"
 },
 "nbformat": 3,
 "nbformat_minor": 0,
 "worksheets": [
  {
   "cells": [
    {
     "cell_type": "markdown",
     "metadata": {},
     "source": [
      "##NMR and BW Exploration\n",
      "\n",
      "Stephen Welch and Matthew Cohen\n",
      "\n",
      "So that we have NRM and BW implemented in python (our two most promising features), let's spend some time trying to figure out why these showed such good results. We'll try to pick some intuitition/deeper understnanding that may later inform algorihtm design. \n",
      "\n"
     ]
    },
    {
     "cell_type": "code",
     "collapsed": false,
     "input": [
      "import sys\n",
      "sys.path.append('PEAQPython')"
     ],
     "language": "python",
     "metadata": {},
     "outputs": [],
     "prompt_number": 1
    },
    {
     "cell_type": "code",
     "collapsed": false,
     "input": [
      "from PEAQ import PEAQ\n",
      "PQ = PEAQ(Amax = 32768)"
     ],
     "language": "python",
     "metadata": {},
     "outputs": [],
     "prompt_number": 2
    },
    {
     "cell_type": "code",
     "collapsed": false,
     "input": [
      "from scikits.audiolab import wavread\n",
      "\n",
      "mic1, Fs, enc = wavread('exports/timeAligned_mic1_10sec.wav')\n",
      "mic2, Fs, enc = wavread('exports/timeAligned_mic2_10sec.wav')\n",
      "mic3, Fs, enc = wavread('exports/timeAligned_mic3_10sec.wav')\n",
      "piezo, Fs, enc = wavread('exports/timeAligned_piezo_10sec.wav')"
     ],
     "language": "python",
     "metadata": {},
     "outputs": [],
     "prompt_number": 3
    },
    {
     "cell_type": "markdown",
     "metadata": {},
     "source": [
      "##Recreate results from Testing MATLAB Code\n",
      "\n",
      "First let's make sure we get similar results to the tables we made using MATLAB:"
     ]
    },
    {
     "cell_type": "code",
     "collapsed": false,
     "input": [
      "def computeMOVs(referenceSignal, testSignal):\n",
      "    #Process Audio (Section 2 Kabal)\n",
      "    PQ.process(referenceSignal=referenceSignal, testSignal = testSignal);\n",
      "    \n",
      "    BWRef, BWTest = PQ.computeBW(PQ.X2MatR, PQ.X2MatT)\n",
      "    BandwidthRefB, BandwidthTestB = PQ.PQ_avgBW(BWRef, BWTest)\n",
      "\n",
      "    NMRavg, NMRmax = PQ.computeNMR(PQ.EbNMat, PQ.EhsR)\n",
      "    totalNMRB, relDistFramesB = PQ.PQ_avgNMRB(NMRavg, NMRmax)\n",
      "    \n",
      "    return BandwidthRefB, BandwidthTestB,  totalNMRB, relDistFramesB"
     ],
     "language": "python",
     "metadata": {},
     "outputs": [],
     "prompt_number": 14
    },
    {
     "cell_type": "code",
     "collapsed": false,
     "input": [
      "#Put combinations into matrices:\n",
      "BandwidthRefB = np.zeros((4,4))\n",
      "BandwidthTestB = = np.zeros((4,4))\n",
      "totalNMRB = = np.zeros((4,4))\n",
      "relDistFramsB = = np.zeros((4,4))\n",
      "\n",
      "signals = [mic1, mic2, mic3, piezo]\n",
      "\n",
      "for i in range(4):\n",
      "    for j in range(4):      \n",
      "        BandwidthRefB[i,j], BandwidthTestB[i,j],  totalNMRB[i,j], relDistFramesB[i,j] = \\\n",
      "            computeMOVs(referenceSignal = signals[i], testSignal = signals[j])\n",
      "         "
     ],
     "language": "python",
     "metadata": {},
     "outputs": [
      {
       "output_type": "stream",
       "stream": "stdout",
       "text": [
        "Signals scaled, max reference value = 32768.0,\n",
        "and max test value = 32768.0.\n",
        "Everything Precomputed, ready to go!"
       ]
      },
      {
       "output_type": "stream",
       "stream": "stdout",
       "text": [
        "\n",
        "Processing Audio...\n",
        "Audio Processed! (Kabal, section 2), 467.0 windows processed  in 3.255987 seconds."
       ]
      },
      {
       "output_type": "stream",
       "stream": "stdout",
       "text": [
        "\n"
       ]
      }
     ],
     "prompt_number": 15
    },
    {
     "cell_type": "code",
     "collapsed": false,
     "input": [],
     "language": "python",
     "metadata": {},
     "outputs": []
    },
    {
     "cell_type": "code",
     "collapsed": false,
     "input": [],
     "language": "python",
     "metadata": {},
     "outputs": []
    },
    {
     "cell_type": "markdown",
     "metadata": {},
     "source": [
      "##Bandwidth (BW)"
     ]
    },
    {
     "cell_type": "code",
     "collapsed": false,
     "input": [
      "BWRef, BWTest = PQ.computeBW(PQ.X2MatR, PQ.X2MatT)"
     ],
     "language": "python",
     "metadata": {},
     "outputs": [],
     "prompt_number": 5
    },
    {
     "cell_type": "markdown",
     "metadata": {},
     "source": [
      "Time Averaging:"
     ]
    },
    {
     "cell_type": "code",
     "collapsed": false,
     "input": [
      "BandwidthRefB, BandwidthTestB = PQ.PQ_avgBW(BWRef, BWTest)"
     ],
     "language": "python",
     "metadata": {},
     "outputs": [],
     "prompt_number": 6
    },
    {
     "cell_type": "code",
     "collapsed": false,
     "input": [
      "BandwidthRefB, BandwidthTestB"
     ],
     "language": "python",
     "metadata": {},
     "outputs": [
      {
       "metadata": {},
       "output_type": "pyout",
       "prompt_number": 10,
       "text": [
        "(800.99357601713064, 699.61884368308347)"
       ]
      }
     ],
     "prompt_number": 10
    },
    {
     "cell_type": "code",
     "collapsed": false,
     "input": [],
     "language": "python",
     "metadata": {},
     "outputs": []
    },
    {
     "cell_type": "markdown",
     "metadata": {},
     "source": [
      "##Noise to Mask Ratio (NMR)"
     ]
    },
    {
     "cell_type": "code",
     "collapsed": false,
     "input": [
      "NMRavg, NMRmax = PQ.computeNMR(PQ.EbNMat, PQ.EhsR)"
     ],
     "language": "python",
     "metadata": {},
     "outputs": [],
     "prompt_number": 7
    },
    {
     "cell_type": "markdown",
     "metadata": {},
     "source": [
      "Time Averaging:"
     ]
    },
    {
     "cell_type": "code",
     "collapsed": false,
     "input": [
      "totalNMRB, relDistFramesB = PQ.PQ_avgNMRB(NMRavg, NMRmax)"
     ],
     "language": "python",
     "metadata": {},
     "outputs": [],
     "prompt_number": 9
    },
    {
     "cell_type": "code",
     "collapsed": false,
     "input": [
      "totalNMRB, relDistFramesB"
     ],
     "language": "python",
     "metadata": {},
     "outputs": [
      {
       "metadata": {},
       "output_type": "pyout",
       "prompt_number": 11,
       "text": [
        "(-1.7893295959076663, 1.0)"
       ]
      }
     ],
     "prompt_number": 11
    },
    {
     "cell_type": "code",
     "collapsed": false,
     "input": [],
     "language": "python",
     "metadata": {},
     "outputs": []
    }
   ],
   "metadata": {}
  }
 ]
}