{
 "metadata": {
  "name": "",
  "signature": "sha256:f0b2a9867d5b013e26016375d87e19e801644863d78190950a7612b58b266dc9"
 },
 "nbformat": 3,
 "nbformat_minor": 0,
 "worksheets": [
  {
   "cells": [
    {
     "cell_type": "markdown",
     "metadata": {},
     "source": [
      "##NMR and BW Exploration\n",
      "\n",
      "Stephen Welch and Matthew Cohen\n",
      "\n",
      "So that we have NRM and BW implemented in python (our two most promising features), let's spend some time trying to figure out why these showed such good results. We'll try to pick some intuitition/deeper understnanding that may later inform algorihtm design. \n",
      "\n"
     ]
    },
    {
     "cell_type": "code",
     "collapsed": false,
     "input": [
      "import sys\n",
      "sys.path.append('PEAQPython')"
     ],
     "language": "python",
     "metadata": {},
     "outputs": [],
     "prompt_number": 1
    },
    {
     "cell_type": "code",
     "collapsed": false,
     "input": [
      "from PEAQ import PEAQ\n",
      "PQ = PEAQ(Amax = 32768)"
     ],
     "language": "python",
     "metadata": {},
     "outputs": [],
     "prompt_number": 2
    },
    {
     "cell_type": "code",
     "collapsed": false,
     "input": [
      "from scikits.audiolab import wavread\n",
      "\n",
      "mic1, Fs, enc = wavread('exports/timeAligned_mic1_10sec.wav')\n",
      "mic2, Fs, enc = wavread('exports/timeAligned_mic2_10sec.wav')\n",
      "mic3, Fs, enc = wavread('exports/timeAligned_mic3_10sec.wav')\n",
      "piezo, Fs, enc = wavread('exports/timeAligned_piezo_10sec.wav')"
     ],
     "language": "python",
     "metadata": {},
     "outputs": [],
     "prompt_number": 3
    },
    {
     "cell_type": "markdown",
     "metadata": {},
     "source": [
      "##Recreate results from Testing MATLAB Code\n",
      "\n",
      "First let's make sure we get similar results to the tables we made using MATLAB:"
     ]
    },
    {
     "cell_type": "code",
     "collapsed": false,
     "input": [
      "def computeMOVs(referenceSignal, testSignal):\n",
      "    #Process Audio (Section 2 Kabal)\n",
      "    PQ.process(referenceSignal=referenceSignal, testSignal = testSignal);\n",
      "    \n",
      "    BWRef, BWTest = PQ.computeBW(PQ.X2MatR, PQ.X2MatT)\n",
      "    BandwidthRefB, BandwidthTestB = PQ.PQ_avgBW(BWRef, BWTest)\n",
      "\n",
      "    NMRavg, NMRmax = PQ.computeNMR(PQ.EbNMat, PQ.EhsR)\n",
      "    totalNMRB, relDistFramesB = PQ.PQ_avgNMRB(NMRavg, NMRmax)\n",
      "    \n",
      "    return BandwidthRefB, BandwidthTestB,  totalNMRB, relDistFramesB"
     ],
     "language": "python",
     "metadata": {},
     "outputs": [],
     "prompt_number": 4
    },
    {
     "cell_type": "code",
     "collapsed": false,
     "input": [
      "#Put combinations into matrices:\n",
      "BandwidthRefB = np.zeros((4,4))\n",
      "BandwidthTestB = np.zeros((4,4))\n",
      "totalNMRB = np.zeros((4,4))\n",
      "relDistFramesB = np.zeros((4,4))\n",
      "\n",
      "signals = [mic1, mic2, mic3, piezo]\n",
      "\n",
      "for i in range(4):\n",
      "    for j in range(4):      \n",
      "        BandwidthRefB[i,j], BandwidthTestB[i,j],  totalNMRB[i,j], relDistFramesB[i,j] = \\\n",
      "            computeMOVs(referenceSignal = signals[i], testSignal = signals[j])\n",
      "        "
     ],
     "language": "python",
     "metadata": {},
     "outputs": [
      {
       "output_type": "stream",
       "stream": "stdout",
       "text": [
        "Signals scaled, max reference value = 32768.0,\n",
        "and max test value = 32768.0.\n",
        "Everything Precomputed, ready to go!"
       ]
      },
      {
       "output_type": "stream",
       "stream": "stdout",
       "text": [
        "\n",
        "Processing Audio...\n",
        "Audio Processed! (Kabal, section 2), 467.0 windows processed  in 3.261835 seconds."
       ]
      },
      {
       "output_type": "stream",
       "stream": "stdout",
       "text": [
        "\n",
        "Signals scaled, max reference value = 32768.0,"
       ]
      },
      {
       "output_type": "stream",
       "stream": "stdout",
       "text": [
        "\n",
        "and max test value = 32768.0.\n",
        "Everything Precomputed, ready to go!"
       ]
      },
      {
       "output_type": "stream",
       "stream": "stdout",
       "text": [
        "\n",
        "Processing Audio...\n",
        "Audio Processed! (Kabal, section 2), 467.0 windows processed  in 3.264739 seconds."
       ]
      },
      {
       "output_type": "stream",
       "stream": "stdout",
       "text": [
        "\n",
        "Signals scaled, max reference value = 32768.0,"
       ]
      },
      {
       "output_type": "stream",
       "stream": "stdout",
       "text": [
        "\n",
        "and max test value = 32768.0.\n",
        "Everything Precomputed, ready to go!"
       ]
      },
      {
       "output_type": "stream",
       "stream": "stdout",
       "text": [
        "\n",
        "Processing Audio...\n",
        "Audio Processed! (Kabal, section 2), 467.0 windows processed  in 3.268445 seconds."
       ]
      },
      {
       "output_type": "stream",
       "stream": "stdout",
       "text": [
        "\n",
        "Signals scaled, max reference value = 32768.0,"
       ]
      },
      {
       "output_type": "stream",
       "stream": "stdout",
       "text": [
        "\n",
        "and max test value = 32768.0.\n",
        "Everything Precomputed, ready to go!"
       ]
      },
      {
       "output_type": "stream",
       "stream": "stdout",
       "text": [
        "\n",
        "Processing Audio...\n",
        "Audio Processed! (Kabal, section 2), 467.0 windows processed  in 3.278893 seconds."
       ]
      },
      {
       "output_type": "stream",
       "stream": "stdout",
       "text": [
        "\n",
        "Signals scaled, max reference value = 32768.0,"
       ]
      },
      {
       "output_type": "stream",
       "stream": "stdout",
       "text": [
        "\n",
        "and max test value = 32768.0.\n",
        "Everything Precomputed, ready to go!"
       ]
      },
      {
       "output_type": "stream",
       "stream": "stdout",
       "text": [
        "\n",
        "Processing Audio...\n",
        "Audio Processed! (Kabal, section 2), 467.0 windows processed  in 3.267448 seconds."
       ]
      },
      {
       "output_type": "stream",
       "stream": "stdout",
       "text": [
        "\n",
        "Signals scaled, max reference value = 32768.0,"
       ]
      },
      {
       "output_type": "stream",
       "stream": "stdout",
       "text": [
        "\n",
        "and max test value = 32768.0.\n",
        "Everything Precomputed, ready to go!"
       ]
      },
      {
       "output_type": "stream",
       "stream": "stdout",
       "text": [
        "\n",
        "Processing Audio...\n",
        "Audio Processed! (Kabal, section 2), 467.0 windows processed  in 3.264628 seconds."
       ]
      },
      {
       "output_type": "stream",
       "stream": "stdout",
       "text": [
        "\n",
        "Signals scaled, max reference value = 32768.0,"
       ]
      },
      {
       "output_type": "stream",
       "stream": "stdout",
       "text": [
        "\n",
        "and max test value = 32768.0.\n",
        "Everything Precomputed, ready to go!"
       ]
      },
      {
       "output_type": "stream",
       "stream": "stdout",
       "text": [
        "\n",
        "Processing Audio...\n",
        "Audio Processed! (Kabal, section 2), 467.0 windows processed  in 3.258176 seconds."
       ]
      },
      {
       "output_type": "stream",
       "stream": "stdout",
       "text": [
        "\n",
        "Signals scaled, max reference value = 32768.0,"
       ]
      },
      {
       "output_type": "stream",
       "stream": "stdout",
       "text": [
        "\n",
        "and max test value = 32768.0.\n",
        "Everything Precomputed, ready to go!"
       ]
      },
      {
       "output_type": "stream",
       "stream": "stdout",
       "text": [
        "\n",
        "Processing Audio...\n",
        "Audio Processed! (Kabal, section 2), 467.0 windows processed  in 3.273775 seconds."
       ]
      },
      {
       "output_type": "stream",
       "stream": "stdout",
       "text": [
        "\n",
        "Signals scaled, max reference value = 32768.0,"
       ]
      },
      {
       "output_type": "stream",
       "stream": "stdout",
       "text": [
        "\n",
        "and max test value = 32768.0.\n",
        "Everything Precomputed, ready to go!"
       ]
      },
      {
       "output_type": "stream",
       "stream": "stdout",
       "text": [
        "\n",
        "Processing Audio...\n",
        "Audio Processed! (Kabal, section 2), 467.0 windows processed  in 3.29047 seconds."
       ]
      },
      {
       "output_type": "stream",
       "stream": "stdout",
       "text": [
        "\n",
        "Signals scaled, max reference value = 32768.0,"
       ]
      },
      {
       "output_type": "stream",
       "stream": "stdout",
       "text": [
        "\n",
        "and max test value = 32768.0.\n",
        "Everything Precomputed, ready to go!"
       ]
      },
      {
       "output_type": "stream",
       "stream": "stdout",
       "text": [
        "\n",
        "Processing Audio...\n",
        "Audio Processed! (Kabal, section 2), 467.0 windows processed  in 3.275615 seconds."
       ]
      },
      {
       "output_type": "stream",
       "stream": "stdout",
       "text": [
        "\n",
        "Signals scaled, max reference value = 32768.0,"
       ]
      },
      {
       "output_type": "stream",
       "stream": "stdout",
       "text": [
        "\n",
        "and max test value = 32768.0.\n",
        "Everything Precomputed, ready to go!"
       ]
      },
      {
       "output_type": "stream",
       "stream": "stdout",
       "text": [
        "\n",
        "Processing Audio...\n",
        "Audio Processed! (Kabal, section 2), 467.0 windows processed  in 3.247602 seconds."
       ]
      },
      {
       "output_type": "stream",
       "stream": "stdout",
       "text": [
        "\n",
        "Signals scaled, max reference value = 32768.0,"
       ]
      },
      {
       "output_type": "stream",
       "stream": "stdout",
       "text": [
        "\n",
        "and max test value = 32768.0.\n",
        "Everything Precomputed, ready to go!"
       ]
      },
      {
       "output_type": "stream",
       "stream": "stdout",
       "text": [
        "\n",
        "Processing Audio...\n",
        "Audio Processed! (Kabal, section 2), 467.0 windows processed  in 3.259404 seconds."
       ]
      },
      {
       "output_type": "stream",
       "stream": "stdout",
       "text": [
        "\n",
        "Signals scaled, max reference value = 32768.0,"
       ]
      },
      {
       "output_type": "stream",
       "stream": "stdout",
       "text": [
        "\n",
        "and max test value = 32768.0.\n",
        "Everything Precomputed, ready to go!"
       ]
      },
      {
       "output_type": "stream",
       "stream": "stdout",
       "text": [
        "\n",
        "Processing Audio...\n",
        "Audio Processed! (Kabal, section 2), 467.0 windows processed  in 3.252398 seconds."
       ]
      },
      {
       "output_type": "stream",
       "stream": "stdout",
       "text": [
        "\n",
        "Signals scaled, max reference value = 32768.0,"
       ]
      },
      {
       "output_type": "stream",
       "stream": "stdout",
       "text": [
        "\n",
        "and max test value = 32768.0.\n",
        "Everything Precomputed, ready to go!"
       ]
      },
      {
       "output_type": "stream",
       "stream": "stdout",
       "text": [
        "\n",
        "Processing Audio...\n",
        "Audio Processed! (Kabal, section 2), 467.0 windows processed  in 3.252173 seconds."
       ]
      },
      {
       "output_type": "stream",
       "stream": "stdout",
       "text": [
        "\n",
        "Signals scaled, max reference value = 32768.0,"
       ]
      },
      {
       "output_type": "stream",
       "stream": "stdout",
       "text": [
        "\n",
        "and max test value = 32768.0.\n",
        "Everything Precomputed, ready to go!"
       ]
      },
      {
       "output_type": "stream",
       "stream": "stdout",
       "text": [
        "\n",
        "Processing Audio...\n",
        "Audio Processed! (Kabal, section 2), 467.0 windows processed  in 3.239735 seconds."
       ]
      },
      {
       "output_type": "stream",
       "stream": "stdout",
       "text": [
        "\n",
        "Signals scaled, max reference value = 32768.0,"
       ]
      },
      {
       "output_type": "stream",
       "stream": "stdout",
       "text": [
        "\n",
        "and max test value = 32768.0.\n",
        "Everything Precomputed, ready to go!"
       ]
      },
      {
       "output_type": "stream",
       "stream": "stdout",
       "text": [
        "\n",
        "Processing Audio...\n",
        "Audio Processed! (Kabal, section 2), 467.0 windows processed  in 3.287367 seconds."
       ]
      },
      {
       "output_type": "stream",
       "stream": "stdout",
       "text": [
        "\n"
       ]
      }
     ],
     "prompt_number": 6
    },
    {
     "cell_type": "markdown",
     "metadata": {},
     "source": [
      "###Checkout comparison tables for each MOV:"
     ]
    },
    {
     "cell_type": "code",
     "collapsed": false,
     "input": [
      "def createMarkdownTableFromMatrix(matrix, columnNames, rowNames):\n",
      "    rows = []\n",
      "    rows.append('| | ')\n",
      "    rows.append('|:-:|')\n",
      "    \n",
      "    for columnName in columnNames:\n",
      "        rows[0] = rows[0] + columnName + ' |'\n",
      "        rows[1] = rows[1] + ':-:|'\n",
      "    \n",
      "    for i, rowName in enumerate(rowNames):\n",
      "        rows.append('| ' + rowName + ' | ' )\n",
      "        for j in range(matrix.shape[1]):\n",
      "            rows[i+2] = rows[i+2] + str(matrix[i, j]) + ' | '\n",
      "    \n",
      "    for row in rows:\n",
      "        print row"
     ],
     "language": "python",
     "metadata": {},
     "outputs": [],
     "prompt_number": 39
    },
    {
     "cell_type": "markdown",
     "metadata": {},
     "source": [
      "##totalNMRB"
     ]
    },
    {
     "cell_type": "code",
     "collapsed": false,
     "input": [
      "createMarkdownTableFromMatrix(totalNMRB, ['mic1', 'mic2', 'mic3', 'piezo'], ['mic1', 'mic2', 'mic3', 'piezo'])"
     ],
     "language": "python",
     "metadata": {},
     "outputs": [
      {
       "output_type": "stream",
       "stream": "stdout",
       "text": [
        "| | mic1 |mic2 |mic3 |piezo |\n",
        "|:-:|:-:|:-:|:-:|:-:|\n",
        "| mic1 | -129.13151924 | -1.78932959591 | -5.23691194961 | -0.938019566804 | \n",
        "| mic2 | 3.0288368862 | -127.626200258 | 2.62540073008 | 0.134715433744 | \n",
        "| mic3 | -5.04369412518 | -2.01037700588 | -128.904877798 | -1.0016940346 | \n",
        "| piezo | 13.0237126884 | 7.53626492609 | 12.6470354551 | -124.789485547 | \n"
       ]
      }
     ],
     "prompt_number": 36
    },
    {
     "cell_type": "markdown",
     "metadata": {},
     "source": [
      "In nice table form:\n",
      "\n",
      "| | mic1 |mic2 |mic3 |piezo |\n",
      "|:-:|:-:|:-:|:-:|:-:|\n",
      "| mic1 | -129.13151924 | -1.78932959591 | -5.23691194961 | -0.938019566804 | \n",
      "| mic2 | 3.0288368862 | -127.626200258 | 2.62540073008 | 0.134715433744 | \n",
      "| mic3 | -5.04369412518 | -2.01037700588 | -128.904877798 | -1.0016940346 | \n",
      "| piezo | 13.0237126884 | 7.53626492609 | 12.6470354551 | -124.789485547 | \n",
      "\n",
      "\n"
     ]
    },
    {
     "cell_type": "markdown",
     "metadata": {},
     "source": [
      "##relDistFramesB"
     ]
    },
    {
     "cell_type": "code",
     "collapsed": false,
     "input": [
      "createMarkdownTableFromMatrix(relDistFramesB, ['mic1', 'mic2', 'mic3', 'piezo'], ['mic1', 'mic2', 'mic3', 'piezo'])"
     ],
     "language": "python",
     "metadata": {},
     "outputs": [
      {
       "output_type": "stream",
       "stream": "stdout",
       "text": [
        "| | mic1 |mic2 |mic3 |piezo |\n",
        "|:-:|:-:|:-:|:-:|:-:|\n",
        "| mic1 | 0.0 | 1.0 | 0.957173447537 | 1.0 | \n",
        "| mic2 | 1.0 | 0.0 | 1.0 | 1.0 | \n",
        "| mic3 | 0.976445396146 | 1.0 | 0.0 | 1.0 | \n",
        "| piezo | 1.0 | 1.0 | 1.0 | 0.0 | \n"
       ]
      }
     ],
     "prompt_number": 33
    },
    {
     "cell_type": "markdown",
     "metadata": {},
     "source": [
      "\n",
      "| | mic1 |mic2 |mic3 |piezo |\n",
      "|:-:|:-:|:-:|:-:|:-:|\n",
      "| mic1 | 0.0 | 1.0 | 0.957173447537 | 1.0 | \n",
      "| mic2 | 1.0 | 0.0 | 1.0 | 1.0 | \n",
      "| mic3 | 0.976445396146 | 1.0 | 0.0 | 1.0 | \n",
      "| piezo | 1.0 | 1.0 | 1.0 | 0.0 | "
     ]
    },
    {
     "cell_type": "markdown",
     "metadata": {},
     "source": [
      "##BandwidthRefB"
     ]
    },
    {
     "cell_type": "code",
     "collapsed": false,
     "input": [
      "createMarkdownTableFromMatrix(BandwidthRefB, ['mic1', 'mic2', 'mic3', 'piezo'], ['mic1', 'mic2', 'mic3', 'piezo'])"
     ],
     "language": "python",
     "metadata": {},
     "outputs": [
      {
       "output_type": "stream",
       "stream": "stdout",
       "text": [
        "| | mic1 |mic2 |mic3 |piezo |\n",
        "|:-:|:-:|:-:|:-:|:-:|\n",
        "| mic1 | 635.614699332 | 800.993576017 | 593.44 | 880.447537473 | \n",
        "| mic2 | 621.053364269 | 665.314533623 | 581.095794393 | 703.730192719 | \n",
        "| mic3 | 692.347161572 | 775.768736617 | 625.532608696 | 891.794432548 | \n",
        "| piezo | 539.8252149 | 591.880184332 | 491.971518987 | 632.665934066 | \n"
       ]
      }
     ],
     "prompt_number": 37
    },
    {
     "cell_type": "markdown",
     "metadata": {},
     "source": [
      "\n",
      "| | mic1 |mic2 |mic3 |piezo |\n",
      "|:-:|:-:|:-:|:-:|:-:|\n",
      "| mic1 | 635.614699332 | 800.993576017 | 593.44 | 880.447537473 | \n",
      "| mic2 | 621.053364269 | 665.314533623 | 581.095794393 | 703.730192719 | \n",
      "| mic3 | 692.347161572 | 775.768736617 | 625.532608696 | 891.794432548 | \n",
      "| piezo | 539.8252149 | 591.880184332 | 491.971518987 | 632.665934066 | "
     ]
    },
    {
     "cell_type": "markdown",
     "metadata": {},
     "source": [
      "##BandwidthTestB"
     ]
    },
    {
     "cell_type": "code",
     "collapsed": false,
     "input": [
      "createMarkdownTableFromMatrix(BandwidthTestB, ['mic1', 'mic2', 'mic3', 'piezo'], ['mic1', 'mic2', 'mic3', 'piezo'])"
     ],
     "language": "python",
     "metadata": {},
     "outputs": [
      {
       "output_type": "stream",
       "stream": "stdout",
       "text": [
        "| | mic1 |mic2 |mic3 |piezo |\n",
        "|:-:|:-:|:-:|:-:|:-:|\n",
        "| mic1 | 635.614699332 | 699.618843683 | 590.193333333 | 684.569593148 | \n",
        "| mic2 | 618.167053364 | 665.314533623 | 578.60046729 | 660.689507495 | \n",
        "| mic3 | 663.945414847 | 708.400428266 | 625.532608696 | 693.394004283 | \n",
        "| piezo | 539.593123209 | 590.430875576 | 491.908227848 | 632.665934066 | \n"
       ]
      }
     ],
     "prompt_number": 38
    },
    {
     "cell_type": "markdown",
     "metadata": {},
     "source": [
      "\n",
      "| | mic1 |mic2 |mic3 |piezo |\n",
      "|:-:|:-:|:-:|:-:|:-:|\n",
      "| mic1 | 635.614699332 | 699.618843683 | 590.193333333 | 684.569593148 | \n",
      "| mic2 | 618.167053364 | 665.314533623 | 578.60046729 | 660.689507495 | \n",
      "| mic3 | 663.945414847 | 708.400428266 | 625.532608696 | 693.394004283 | \n",
      "| piezo | 539.593123209 | 590.430875576 | 491.908227848 | 632.665934066 | "
     ]
    },
    {
     "cell_type": "markdown",
     "metadata": {},
     "source": [
      "##Noise to Mask Ratio (NMR)"
     ]
    },
    {
     "cell_type": "markdown",
     "metadata": {},
     "source": [
      "Ok, NMR still looks pretty freaking good - I'll look into this one first!\n",
      "\n",
      "So, NMR depends on 2 computed signals:\n",
      "\n",
      "| Math Symbol| Variable Name in Code | Explanation | Dimension |\n",
      "| :---------: | :-: | :-: | :-: |\n",
      "| $\\tilde{E}_{sR}[k, n]$ | EhsR | Frequency and Time spread excitation pattern for reference signal | numWindows x numCriticalBands |\n",
      "| $ E_{bN}[k, n] $ | EbNMat | Difference of the magnitude squared signal, post frequency grouping| numWindows x numCriticalBands |\n",
      "\n",
      "where $k$ is the frequency index and $n$ is our time (window) index."
     ]
    },
    {
     "cell_type": "markdown",
     "metadata": {},
     "source": [
      "The difference of the magnitude signal is computed as:\n",
      "\n",
      "$$\n",
      "X_{wN}^2 = X_{wR}^2 - 2\\sqrt{X_{wR}^2X_{wT}^2} + X_{wT}^2\n",
      "$$"
     ]
    },
    {
     "cell_type": "markdown",
     "metadata": {},
     "source": [
      "Where $X_{wR}^2$ and $X_{wT}^2$ are the (ear) weighted DFT magnitudes of the reference and test singals."
     ]
    },
    {
     "cell_type": "markdown",
     "metadata": {},
     "source": [
      "Why is the above equation the \"difference\"???"
     ]
    },
    {
     "cell_type": "markdown",
     "metadata": {},
     "source": [
      "I think it has to do with this:\n",
      "\n",
      "$$\n",
      "(x-y)^2 = x^2 -2xy + y^2\n",
      "$$"
     ]
    },
    {
     "cell_type": "markdown",
     "metadata": {},
     "source": [
      "But I think to really understand this, we need to go back to the computation of the magnitude squared signal. Our magnitude squared value is the sum of the real and imaginary components:"
     ]
    },
    {
     "cell_type": "markdown",
     "metadata": {},
     "source": [
      "$$\n",
      "X^2 = \\Re^2 + \\Im^2\n",
      "$$"
     ]
    },
    {
     "cell_type": "markdown",
     "metadata": {},
     "source": [
      "So given two complex signals, $X_1 = \\Re_1 + \\Im_1$ and $X_2 = \\Re_2 + \\Im_2$, "
     ]
    },
    {
     "cell_type": "markdown",
     "metadata": {},
     "source": [
      "$$\n",
      "X_2 - X_1 = (\\Re_2-\\Re_1) + (\\Im_2-\\Im_1)\n",
      "$$"
     ]
    },
    {
     "cell_type": "markdown",
     "metadata": {},
     "source": [
      "The squared magnitude of the difference, $(X_2 - X_1)^2$, is then:\n",
      "\n",
      "$$\n",
      "(X_2 - X_1)^2 = (\\Re_2-\\Re_1)^2 + (\\Im_2-\\Im_1)^2 \\\\\n",
      "= \\Re_2^2 +\\Re_2\\Re_1 + \\Re_1^2 +  \\Im_2^2 +\\Im_2\\Im_1 + \\Im_1^2\n",
      "$$"
     ]
    },
    {
     "cell_type": "markdown",
     "metadata": {},
     "source": [
      "Ehhh, I think this is going somewhere...."
     ]
    },
    {
     "cell_type": "code",
     "collapsed": false,
     "input": [],
     "language": "python",
     "metadata": {},
     "outputs": []
    },
    {
     "cell_type": "code",
     "collapsed": false,
     "input": [
      "PQ.process(referenceSignal=mic1, testSignal = piezo);"
     ],
     "language": "python",
     "metadata": {},
     "outputs": [
      {
       "output_type": "stream",
       "stream": "stdout",
       "text": [
        "Signals scaled, max reference value = 32768.0,\n",
        "and max test value = 32768.0.\n",
        "Everything Precomputed, ready to go!"
       ]
      },
      {
       "output_type": "stream",
       "stream": "stdout",
       "text": [
        "\n",
        "Processing Audio...\n",
        "Audio Processed! (Kabal, section 2), 467.0 windows processed  in 3.231234 seconds."
       ]
      },
      {
       "output_type": "stream",
       "stream": "stdout",
       "text": [
        "\n"
       ]
      }
     ],
     "prompt_number": 40
    },
    {
     "cell_type": "code",
     "collapsed": false,
     "input": [
      "NMRavg, NMRmax = PQ.computeNMR(PQ.EbNMat, PQ.EhsR)\n",
      "totalNMRB, relDistFramesB = PQ.PQ_avgNMRB(NMRavg, NMRmax)"
     ],
     "language": "python",
     "metadata": {},
     "outputs": [],
     "prompt_number": 41
    },
    {
     "cell_type": "code",
     "collapsed": false,
     "input": [
      "PQ.EbNMat.shape"
     ],
     "language": "python",
     "metadata": {},
     "outputs": [
      {
       "metadata": {},
       "output_type": "pyout",
       "prompt_number": 42,
       "text": [
        "(467, 109)"
       ]
      }
     ],
     "prompt_number": 42
    },
    {
     "cell_type": "code",
     "collapsed": false,
     "input": [
      "PQ.EhsR.shape"
     ],
     "language": "python",
     "metadata": {},
     "outputs": [
      {
       "metadata": {},
       "output_type": "pyout",
       "prompt_number": 43,
       "text": [
        "(467, 109)"
       ]
      }
     ],
     "prompt_number": 43
    },
    {
     "cell_type": "code",
     "collapsed": false,
     "input": [],
     "language": "python",
     "metadata": {},
     "outputs": []
    },
    {
     "cell_type": "code",
     "collapsed": false,
     "input": [],
     "language": "python",
     "metadata": {},
     "outputs": []
    },
    {
     "cell_type": "code",
     "collapsed": false,
     "input": [],
     "language": "python",
     "metadata": {},
     "outputs": []
    },
    {
     "cell_type": "code",
     "collapsed": false,
     "input": [],
     "language": "python",
     "metadata": {},
     "outputs": []
    },
    {
     "cell_type": "code",
     "collapsed": false,
     "input": [],
     "language": "python",
     "metadata": {},
     "outputs": []
    },
    {
     "cell_type": "code",
     "collapsed": false,
     "input": [],
     "language": "python",
     "metadata": {},
     "outputs": []
    },
    {
     "cell_type": "code",
     "collapsed": false,
     "input": [],
     "language": "python",
     "metadata": {},
     "outputs": []
    },
    {
     "cell_type": "code",
     "collapsed": false,
     "input": [],
     "language": "python",
     "metadata": {},
     "outputs": []
    },
    {
     "cell_type": "markdown",
     "metadata": {},
     "source": [
      "##Bandwidth (BW)"
     ]
    },
    {
     "cell_type": "code",
     "collapsed": false,
     "input": [],
     "language": "python",
     "metadata": {},
     "outputs": []
    },
    {
     "cell_type": "code",
     "collapsed": false,
     "input": [],
     "language": "python",
     "metadata": {},
     "outputs": []
    }
   ],
   "metadata": {}
  }
 ]
}