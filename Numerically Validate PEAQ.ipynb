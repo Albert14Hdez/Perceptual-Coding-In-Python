{
 "metadata": {
  "name": "",
  "signature": "sha256:1a4bf6d8e7133fa0c6ce8ce54e7eca9e4c98faa0532b444f0ed2a64b174e7bd7"
 },
 "nbformat": 3,
 "nbformat_minor": 0,
 "worksheets": [
  {
   "cells": [
    {
     "cell_type": "markdown",
     "metadata": {},
     "source": [
      "<h1 align = 'center'> Numerically Validate PEAQ</h1>\n",
      "\n",
      "<h3 align = 'center'> Matthew Cohen and Stephen Welch </h3>\n"
     ]
    },
    {
     "cell_type": "code",
     "collapsed": false,
     "input": [
      "import sys\n",
      "sys.path.append('PEAQPython')"
     ],
     "language": "python",
     "metadata": {},
     "outputs": [],
     "prompt_number": 1
    },
    {
     "cell_type": "heading",
     "level": 3,
     "metadata": {},
     "source": [
      "1. Testing Signals"
     ]
    },
    {
     "cell_type": "code",
     "collapsed": false,
     "input": [
      "#Sampling frequence and frame length:\n",
      "Fs = 48000\n",
      "NF = 2048"
     ],
     "language": "python",
     "metadata": {},
     "outputs": [],
     "prompt_number": 2
    },
    {
     "cell_type": "code",
     "collapsed": false,
     "input": [
      "#Test Signal, sinwave at frequency f:\n",
      "f = 1000. #Hz\n",
      "t = np.arange(0,2048)/float(Fs)\n",
      "xT = np.sin(2*pi*f*t)\n",
      "\n",
      "#Reference Signal\n",
      "xR = np.cos(2*pi*f*t)"
     ],
     "language": "python",
     "metadata": {},
     "outputs": [],
     "prompt_number": 3
    },
    {
     "cell_type": "code",
     "collapsed": false,
     "input": [
      "from PQEval import PQEval"
     ],
     "language": "python",
     "metadata": {},
     "outputs": [],
     "prompt_number": 4
    },
    {
     "cell_type": "code",
     "collapsed": false,
     "input": [
      "PQE = PQEval(Amax = 32768)"
     ],
     "language": "python",
     "metadata": {},
     "outputs": [],
     "prompt_number": 5
    },
    {
     "cell_type": "code",
     "collapsed": false,
     "input": [
      "# Compute Windowed DFT\n",
      "X2 = np.zeros((2,NF/2+1))\n",
      "\n",
      "X2[0,:] = PQE.PQDFTFrame(xR)\n",
      "X2[1,:] = PQE.PQDFTFrame(xT)"
     ],
     "language": "python",
     "metadata": {},
     "outputs": [],
     "prompt_number": 6
    },
    {
     "cell_type": "markdown",
     "metadata": {},
     "source": [
      "###Run Octave/MATLAB version of same code:"
     ]
    },
    {
     "cell_type": "code",
     "collapsed": false,
     "input": [
      "%load_ext oct2py.ipython"
     ],
     "language": "python",
     "metadata": {},
     "outputs": [],
     "prompt_number": 7
    },
    {
     "cell_type": "code",
     "collapsed": false,
     "input": [
      "%octave_push xT xR\n",
      "%octave addpath(genpath('PEAQPython/PQevalAudioMATLAB'));\n",
      "%octave X2_oct(1,:) = PQDFTFrame (xR);\n",
      "%octave X2_oct(2,:) = PQDFTFrame (xT);\n",
      "%octave_pull X2_oct"
     ],
     "language": "python",
     "metadata": {},
     "outputs": [
      {
       "metadata": {},
       "output_type": "display_data",
       "text": []
      },
      {
       "metadata": {},
       "output_type": "display_data",
       "text": []
      },
      {
       "metadata": {},
       "output_type": "display_data",
       "text": []
      }
     ],
     "prompt_number": 8
    },
    {
     "cell_type": "markdown",
     "metadata": {},
     "source": [
      "Compare signals, close this is to zero, the better:"
     ]
    },
    {
     "cell_type": "code",
     "collapsed": false,
     "input": [
      "norm(X2-X2_oct)/norm(X2+X2_oct)"
     ],
     "language": "python",
     "metadata": {},
     "outputs": [
      {
       "metadata": {},
       "output_type": "pyout",
       "prompt_number": 9,
       "text": [
        "9.4669067411477937e-17"
       ]
      }
     ],
     "prompt_number": 9
    },
    {
     "cell_type": "code",
     "collapsed": false,
     "input": [
      "# Critical band grouping and frequency spreading\n",
      "EbN, Es = PQE.PQ_excitCB(X2)"
     ],
     "language": "python",
     "metadata": {},
     "outputs": [],
     "prompt_number": 10
    },
    {
     "cell_type": "code",
     "collapsed": false,
     "input": [
      "%octave [EbN_oct, Es_oct] = PQ_excitCB (X2_oct);\n",
      "%octave_pull EbN_oct Es_oct"
     ],
     "language": "python",
     "metadata": {},
     "outputs": [
      {
       "metadata": {},
       "output_type": "display_data",
       "text": []
      }
     ],
     "prompt_number": 11
    },
    {
     "cell_type": "code",
     "collapsed": false,
     "input": [
      "norm(EbN-EbN_oct)/norm(EbN+EbN_oct)"
     ],
     "language": "python",
     "metadata": {},
     "outputs": [
      {
       "metadata": {},
       "output_type": "pyout",
       "prompt_number": 12,
       "text": [
        "8.051082178272035e-12"
       ]
      }
     ],
     "prompt_number": 12
    },
    {
     "cell_type": "code",
     "collapsed": false,
     "input": [
      "norm(Es-Es_oct)/norm(Es+Es_oct)"
     ],
     "language": "python",
     "metadata": {},
     "outputs": [
      {
       "metadata": {},
       "output_type": "pyout",
       "prompt_number": 13,
       "text": [
        "0.31943107619347327"
       ]
      }
     ],
     "prompt_number": 13
    },
    {
     "cell_type": "code",
     "collapsed": false,
     "input": [
      "Es_oct"
     ],
     "language": "python",
     "metadata": {},
     "outputs": [
      {
       "metadata": {},
       "output_type": "pyout",
       "prompt_number": 16,
       "text": [
        "array([[ 6.99443716,  6.11979461,  5.28517804,  4.58641599,  4.02407687,\n",
        "         3.57777895,  3.22427451,  2.94292735,  2.71702187,  2.53359905,\n",
        "         2.3828245 ,  2.25731064,  2.15151983,  2.06129098,  1.98348114,\n",
        "         1.9156996 ,  1.85611355,  1.80330913,  1.7561927 ,  1.71392597,\n",
        "         1.67588924,  1.64167544,  1.61112565,  1.58442666,  1.56231988,\n",
        "         1.54651248,  1.54047598,  1.55101626,  1.59147247,  1.68860192,\n",
        "         1.87296364,  1.71709563,  1.57409345,  1.48476605,  1.42663797,\n",
        "         1.38703306,  1.3586322 ,  1.33712869,  1.31995553,  1.30556852,\n",
        "         1.29303135,  1.28177174,  1.27143638,  1.26180405,  1.25273363,\n",
        "         1.24413265,  1.23593846,  1.22810687,  1.22060516,  1.21340801,\n",
        "         1.20649487,  1.19984847,  1.19345379,  1.18729752,  1.18136761,\n",
        "         1.17565304,  1.17014365,  1.16483002,  1.15970333,  1.15475534,\n",
        "         1.14997832,  1.14536501,  1.14090855,  1.13660248,  1.1324407 ,\n",
        "         1.12841741,  1.12452715,  1.12076474,  1.11712523,  1.11360395,\n",
        "         1.11019644,  1.10689847,  1.10370599,  1.10061514,  1.09762227,\n",
        "         1.09472384,  1.09191651,  1.08919708,  1.08656245,  1.0840097 ,\n",
        "         1.08153601,  1.07913868,  1.07681511,  1.07456281,  1.07237941,\n",
        "         1.07026261,  1.06821019,  1.06622005,  1.06429016,  1.06241854,\n",
        "         1.06060333,  1.05884272,  1.05713499,  1.0554785 ,  1.05387172,\n",
        "         1.05231324,  1.05080182,  1.04933645,  1.04791654,  1.04654207,\n",
        "         1.04521404,  1.04393317,  1.04270574,  1.04154035,  1.04045213,\n",
        "         1.03946696,  1.03863015,  1.0380296 ,  1.03790063],\n",
        "       [ 6.99443716,  6.11979461,  5.28517804,  4.58641599,  4.02407687,\n",
        "         3.57777895,  3.22427451,  2.94292735,  2.71702187,  2.53359905,\n",
        "         2.3828245 ,  2.25731064,  2.15151983,  2.06129098,  1.98348114,\n",
        "         1.9156996 ,  1.85611355,  1.80330913,  1.7561927 ,  1.71392597,\n",
        "         1.67588924,  1.64167544,  1.61112565,  1.58442666,  1.56231988,\n",
        "         1.54651249,  1.54047599,  1.55101627,  1.59147249,  1.68860194,\n",
        "         1.87296365,  1.71709558,  1.57409342,  1.48476603,  1.42663796,\n",
        "         1.38703305,  1.35863219,  1.33712868,  1.31995553,  1.30556852,\n",
        "         1.29303135,  1.28177174,  1.27143638,  1.26180405,  1.25273363,\n",
        "         1.24413265,  1.23593846,  1.22810687,  1.22060516,  1.21340801,\n",
        "         1.20649487,  1.19984847,  1.19345379,  1.18729752,  1.18136761,\n",
        "         1.17565304,  1.17014365,  1.16483002,  1.15970333,  1.15475534,\n",
        "         1.14997832,  1.14536501,  1.14090855,  1.13660248,  1.1324407 ,\n",
        "         1.12841741,  1.12452715,  1.12076474,  1.11712523,  1.11360395,\n",
        "         1.11019644,  1.10689847,  1.10370599,  1.10061514,  1.09762227,\n",
        "         1.09472384,  1.09191651,  1.08919708,  1.08656245,  1.0840097 ,\n",
        "         1.08153601,  1.07913868,  1.07681511,  1.07456281,  1.07237941,\n",
        "         1.07026261,  1.06821019,  1.06622005,  1.06429016,  1.06241854,\n",
        "         1.06060333,  1.05884272,  1.05713499,  1.0554785 ,  1.05387172,\n",
        "         1.05231324,  1.05080182,  1.04933645,  1.04791654,  1.04654207,\n",
        "         1.04521404,  1.04393317,  1.04270574,  1.04154035,  1.04045213,\n",
        "         1.03946696,  1.03863015,  1.0380296 ,  1.03790063]])"
       ]
      }
     ],
     "prompt_number": 16
    },
    {
     "cell_type": "markdown",
     "metadata": {},
     "source": [
      "Ok, these aren't matching - I'm a bit brain dead, time for a run. "
     ]
    },
    {
     "cell_type": "code",
     "collapsed": false,
     "input": [],
     "language": "python",
     "metadata": {},
     "outputs": []
    }
   ],
   "metadata": {}
  }
 ]
}