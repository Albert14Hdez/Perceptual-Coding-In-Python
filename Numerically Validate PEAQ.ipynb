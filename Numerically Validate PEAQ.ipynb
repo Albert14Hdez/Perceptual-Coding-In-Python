{
 "metadata": {
  "name": "",
  "signature": "sha256:2460446ca96e028bfc053e90dab9776464209986dfb51963bae891a73d04e520"
 },
 "nbformat": 3,
 "nbformat_minor": 0,
 "worksheets": [
  {
   "cells": [
    {
     "cell_type": "markdown",
     "metadata": {},
     "source": [
      "<h1 align = 'center'> Numerically Validate PEAQ</h1>\n",
      "\n",
      "<h3 align = 'center'> Matthew Cohen and Stephen Welch </h3>\n"
     ]
    },
    {
     "cell_type": "code",
     "collapsed": false,
     "input": [
      "import sys\n",
      "sys.path.append('PEAQPython')"
     ],
     "language": "python",
     "metadata": {},
     "outputs": [],
     "prompt_number": 1
    },
    {
     "cell_type": "heading",
     "level": 2,
     "metadata": {},
     "source": [
      "1. Testing Signals"
     ]
    },
    {
     "cell_type": "code",
     "collapsed": false,
     "input": [
      "#Sampling frequence and frame length:\n",
      "Fs = 48000\n",
      "NF = 2048"
     ],
     "language": "python",
     "metadata": {},
     "outputs": [],
     "prompt_number": 2
    },
    {
     "cell_type": "code",
     "collapsed": false,
     "input": [
      "#Test Signal, sinwave at frequency f:\n",
      "f = 1000. #Hz\n",
      "t = np.arange(0,2048)/float(Fs)\n",
      "xT = 16000*np.sin(2*pi*f*t)\n",
      "\n",
      "#Reference Signal\n",
      "xR = 8000*np.cos(2*pi*f*t)"
     ],
     "language": "python",
     "metadata": {},
     "outputs": [],
     "prompt_number": 23
    },
    {
     "cell_type": "heading",
     "level": 2,
     "metadata": {},
     "source": [
      "2. Validate Section 2, Time To Frequency Domain"
     ]
    },
    {
     "cell_type": "markdown",
     "metadata": {},
     "source": [
      "Import our python class:"
     ]
    },
    {
     "cell_type": "code",
     "collapsed": false,
     "input": [
      "from PQEval import PQEval"
     ],
     "language": "python",
     "metadata": {},
     "outputs": [],
     "prompt_number": 24
    },
    {
     "cell_type": "markdown",
     "metadata": {},
     "source": [
      "Instantiante object:"
     ]
    },
    {
     "cell_type": "code",
     "collapsed": false,
     "input": [
      "PQE = PQEval(Amax = 32768)"
     ],
     "language": "python",
     "metadata": {},
     "outputs": [],
     "prompt_number": 25
    },
    {
     "cell_type": "heading",
     "level": 3,
     "metadata": {},
     "source": [
      "Test Sections 2.2-2.4"
     ]
    },
    {
     "cell_type": "code",
     "collapsed": false,
     "input": [
      "# Compute Windowed DFT\n",
      "X2 = np.zeros((2,NF/2+1))\n",
      "\n",
      "X2[0,:] = PQE.PQDFTFrame(xR)\n",
      "X2[1,:] = PQE.PQDFTFrame(xT)"
     ],
     "language": "python",
     "metadata": {},
     "outputs": [],
     "prompt_number": 26
    },
    {
     "cell_type": "markdown",
     "metadata": {},
     "source": [
      "Run Octave/MATLAB version of same code:"
     ]
    },
    {
     "cell_type": "code",
     "collapsed": false,
     "input": [
      "%load_ext oct2py.ipython"
     ],
     "language": "python",
     "metadata": {},
     "outputs": [
      {
       "output_type": "stream",
       "stream": "stdout",
       "text": [
        "The oct2py.ipython extension is already loaded. To reload it, use:\n",
        "  %reload_ext oct2py.ipython\n"
       ]
      }
     ],
     "prompt_number": 27
    },
    {
     "cell_type": "code",
     "collapsed": false,
     "input": [
      "%octave_push xT xR\n",
      "%octave addpath(genpath('PEAQPython/PQevalAudioMATLAB'));\n",
      "%octave X2_oct(1,:) = PQDFTFrame (xR);\n",
      "%octave X2_oct(2,:) = PQDFTFrame (xT);\n",
      "%octave_pull X2_oct"
     ],
     "language": "python",
     "metadata": {},
     "outputs": [
      {
       "metadata": {},
       "output_type": "display_data",
       "text": []
      },
      {
       "metadata": {},
       "output_type": "display_data",
       "text": []
      },
      {
       "metadata": {},
       "output_type": "display_data",
       "text": []
      }
     ],
     "prompt_number": 28
    },
    {
     "cell_type": "markdown",
     "metadata": {},
     "source": [
      "Compare signals, close this is to zero, the better:"
     ]
    },
    {
     "cell_type": "code",
     "collapsed": false,
     "input": [
      "norm(X2-X2_oct)/norm(X2+X2_oct)"
     ],
     "language": "python",
     "metadata": {},
     "outputs": [
      {
       "metadata": {},
       "output_type": "pyout",
       "prompt_number": 29,
       "text": [
        "9.6270419897236022e-17"
       ]
      }
     ],
     "prompt_number": 29
    },
    {
     "cell_type": "heading",
     "level": 3,
     "metadata": {},
     "source": [
      "Test Sections 2.5-2.8"
     ]
    },
    {
     "cell_type": "code",
     "collapsed": false,
     "input": [
      "# Critical band grouping and frequency spreading\n",
      "EbN, Es = PQE.PQ_excitCB(X2)"
     ],
     "language": "python",
     "metadata": {},
     "outputs": [],
     "prompt_number": 30
    },
    {
     "cell_type": "code",
     "collapsed": false,
     "input": [
      "#Octave Version:\n",
      "%octave [EbN_oct, Es_oct] = PQ_excitCB (X2_oct);\n",
      "%octave_pull EbN_oct Es_oct"
     ],
     "language": "python",
     "metadata": {},
     "outputs": [
      {
       "metadata": {},
       "output_type": "display_data",
       "text": []
      }
     ],
     "prompt_number": 31
    },
    {
     "cell_type": "markdown",
     "metadata": {},
     "source": [
      "And Compare:"
     ]
    },
    {
     "cell_type": "code",
     "collapsed": false,
     "input": [
      "norm(EbN-EbN_oct)/norm(EbN+EbN_oct)"
     ],
     "language": "python",
     "metadata": {},
     "outputs": [
      {
       "metadata": {},
       "output_type": "pyout",
       "prompt_number": 34,
       "text": [
        "2.7653987315263422e-16"
       ]
      }
     ],
     "prompt_number": 34
    },
    {
     "cell_type": "code",
     "collapsed": false,
     "input": [
      "norm(Es-Es_oct)/norm(Es+Es_oct)"
     ],
     "language": "python",
     "metadata": {},
     "outputs": [
      {
       "metadata": {},
       "output_type": "pyout",
       "prompt_number": 35,
       "text": [
        "4.7902963889384502e-16"
       ]
      }
     ],
     "prompt_number": 35
    },
    {
     "cell_type": "markdown",
     "metadata": {},
     "source": [
      "Ok, validated with Octave through section 2.8"
     ]
    },
    {
     "cell_type": "markdown",
     "metadata": {},
     "source": [
      "###Test section 2.9 - Time Domain Spreading\n",
      "\n",
      "For testing, I'm going to make a fake previous frame:"
     ]
    },
    {
     "cell_type": "code",
     "collapsed": false,
     "input": [
      "EsOld = 0.5*Es[0,:]"
     ],
     "language": "python",
     "metadata": {},
     "outputs": [],
     "prompt_number": 36
    },
    {
     "cell_type": "code",
     "collapsed": false,
     "input": [
      "Ehs, lastFrame = PQE.PQ_timeSpread(Es[0,:], EsOld)"
     ],
     "language": "python",
     "metadata": {},
     "outputs": [],
     "prompt_number": 37
    },
    {
     "cell_type": "code",
     "collapsed": false,
     "input": [
      "%octave [Ehs_oct, lastFrame_oct] = PQ_timeSpread (Es_oct(1,:), 0.5*Es_oct(1,:));\n",
      "%octave_pull Ehs_oct lastFrame_oct"
     ],
     "language": "python",
     "metadata": {},
     "outputs": [
      {
       "metadata": {},
       "output_type": "display_data",
       "text": []
      }
     ],
     "prompt_number": 38
    },
    {
     "cell_type": "code",
     "collapsed": false,
     "input": [
      "norm(Ehs-Ehs_oct)/norm(Ehs+Ehs_oct)"
     ],
     "language": "python",
     "metadata": {},
     "outputs": [
      {
       "metadata": {},
       "output_type": "pyout",
       "prompt_number": 39,
       "text": [
        "3.8829423092613633e-16"
       ]
      }
     ],
     "prompt_number": 39
    },
    {
     "cell_type": "code",
     "collapsed": false,
     "input": [
      "norm(lastFrame-lastFrame_oct)/norm(lastFrame+lastFrame_oct)"
     ],
     "language": "python",
     "metadata": {},
     "outputs": [
      {
       "metadata": {},
       "output_type": "pyout",
       "prompt_number": 40,
       "text": [
        "3.797164713011793e-16"
       ]
      }
     ],
     "prompt_number": 40
    },
    {
     "cell_type": "markdown",
     "metadata": {},
     "source": [
      "**Section 2 has been successfully validated.**"
     ]
    },
    {
     "cell_type": "code",
     "collapsed": false,
     "input": [],
     "language": "python",
     "metadata": {},
     "outputs": []
    }
   ],
   "metadata": {}
  }
 ]
}