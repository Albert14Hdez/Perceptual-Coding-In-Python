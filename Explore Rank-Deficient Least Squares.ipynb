{
 "metadata": {
  "name": "",
  "signature": "sha256:70068b731ab625901d58a4f9392d527a264d631e4c822f9e10e475273941360d"
 },
 "nbformat": 3,
 "nbformat_minor": 0,
 "worksheets": [
  {
   "cells": [
    {
     "cell_type": "markdown",
     "metadata": {},
     "source": [
      "#Exploration of Rank-Deficient Least Squares\n",
      "* Matthew Cohen - April 23, 2015"
     ]
    },
    {
     "cell_type": "markdown",
     "metadata": {},
     "source": [
      "In the process of exploring Bark domain filter design, the main issue that I was confronted with was a rank-deficient matrix in the least squares problem."
     ]
    }
   ],
   "metadata": {}
  }
 ]
}